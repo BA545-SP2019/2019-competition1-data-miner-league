{
 "cells": [
  {
   "cell_type": "code",
   "execution_count": 1,
   "metadata": {},
   "outputs": [],
   "source": [
    "# import required package for data handling\n",
    "import pandas as pd\n",
    "import numpy as np\n",
    "\n",
    "# import `logistic regression` model\n",
    "from sklearn.linear_model import LogisticRegression\n",
    "\n",
    "import seaborn as sns\n",
    "import matplotlib.pyplot as plt"
   ]
  },
  {
   "cell_type": "markdown",
   "metadata": {},
   "source": [
    "#### Load Data"
   ]
  },
  {
   "cell_type": "code",
   "execution_count": 2,
   "metadata": {},
   "outputs": [
    {
     "data": {
      "text/html": [
       "<div>\n",
       "<style scoped>\n",
       "    .dataframe tbody tr th:only-of-type {\n",
       "        vertical-align: middle;\n",
       "    }\n",
       "\n",
       "    .dataframe tbody tr th {\n",
       "        vertical-align: top;\n",
       "    }\n",
       "\n",
       "    .dataframe thead th {\n",
       "        text-align: right;\n",
       "    }\n",
       "</style>\n",
       "<table border=\"1\" class=\"dataframe\">\n",
       "  <thead>\n",
       "    <tr style=\"text-align: right;\">\n",
       "      <th></th>\n",
       "      <th>I1</th>\n",
       "      <th>I2</th>\n",
       "      <th>I3</th>\n",
       "      <th>P(IPO)</th>\n",
       "      <th>P(H)</th>\n",
       "      <th>P(L)</th>\n",
       "      <th>P(1Day)</th>\n",
       "      <th>C1</th>\n",
       "      <th>C2</th>\n",
       "      <th>C3</th>\n",
       "      <th>...</th>\n",
       "      <th>C6</th>\n",
       "      <th>C7</th>\n",
       "      <th>T1</th>\n",
       "      <th>T2</th>\n",
       "      <th>T3</th>\n",
       "      <th>T4</th>\n",
       "      <th>T5</th>\n",
       "      <th>S1</th>\n",
       "      <th>S2</th>\n",
       "      <th>S3</th>\n",
       "    </tr>\n",
       "  </thead>\n",
       "  <tbody>\n",
       "    <tr>\n",
       "      <th>0</th>\n",
       "      <td>AATI</td>\n",
       "      <td>ADVANCED ANALOGIC TECHNOLOGIES INC</td>\n",
       "      <td>3674</td>\n",
       "      <td>10.0</td>\n",
       "      <td>9.5</td>\n",
       "      <td>8.5</td>\n",
       "      <td>11.870000</td>\n",
       "      <td>122.0</td>\n",
       "      <td>1.0</td>\n",
       "      <td>3.43</td>\n",
       "      <td>...</td>\n",
       "      <td>10600000.0</td>\n",
       "      <td>51.345</td>\n",
       "      <td>470.0</td>\n",
       "      <td>12719.0</td>\n",
       "      <td>11560.0</td>\n",
       "      <td>301.0</td>\n",
       "      <td>690.0</td>\n",
       "      <td>62.0</td>\n",
       "      <td>117.0</td>\n",
       "      <td>139.0</td>\n",
       "    </tr>\n",
       "    <tr>\n",
       "      <th>1</th>\n",
       "      <td>ABPI</td>\n",
       "      <td>ACCENTIA BIOPHARMACEUTICALS INC</td>\n",
       "      <td>2834</td>\n",
       "      <td>8.0</td>\n",
       "      <td>10.0</td>\n",
       "      <td>8.0</td>\n",
       "      <td>7.250000</td>\n",
       "      <td>259.0</td>\n",
       "      <td>0.0</td>\n",
       "      <td>-1.62</td>\n",
       "      <td>...</td>\n",
       "      <td>2400000.0</td>\n",
       "      <td>25.936</td>\n",
       "      <td>791.0</td>\n",
       "      <td>21792.0</td>\n",
       "      <td>19585.0</td>\n",
       "      <td>510.0</td>\n",
       "      <td>1120.0</td>\n",
       "      <td>71.0</td>\n",
       "      <td>242.0</td>\n",
       "      <td>237.0</td>\n",
       "    </tr>\n",
       "    <tr>\n",
       "      <th>2</th>\n",
       "      <td>ACAD</td>\n",
       "      <td>ACADIA PHARMACEUTICALS INC</td>\n",
       "      <td>2834</td>\n",
       "      <td>7.0</td>\n",
       "      <td>14.0</td>\n",
       "      <td>12.0</td>\n",
       "      <td>6.700000</td>\n",
       "      <td>90.0</td>\n",
       "      <td>1.0</td>\n",
       "      <td>-1.24</td>\n",
       "      <td>...</td>\n",
       "      <td>5000000.0</td>\n",
       "      <td>7.378</td>\n",
       "      <td>201.0</td>\n",
       "      <td>5262.0</td>\n",
       "      <td>4785.0</td>\n",
       "      <td>128.0</td>\n",
       "      <td>325.0</td>\n",
       "      <td>61.0</td>\n",
       "      <td>33.0</td>\n",
       "      <td>60.0</td>\n",
       "    </tr>\n",
       "    <tr>\n",
       "      <th>3</th>\n",
       "      <td>ACHN</td>\n",
       "      <td>ACHILLION PHARMACEUTICALS INC</td>\n",
       "      <td>2834</td>\n",
       "      <td>11.5</td>\n",
       "      <td>16.0</td>\n",
       "      <td>14.0</td>\n",
       "      <td>12.390000</td>\n",
       "      <td>209.0</td>\n",
       "      <td>1.0</td>\n",
       "      <td>-0.91</td>\n",
       "      <td>...</td>\n",
       "      <td>4500000.0</td>\n",
       "      <td>8.526</td>\n",
       "      <td>328.0</td>\n",
       "      <td>8259.0</td>\n",
       "      <td>7574.0</td>\n",
       "      <td>177.0</td>\n",
       "      <td>509.0</td>\n",
       "      <td>80.0</td>\n",
       "      <td>59.0</td>\n",
       "      <td>110.0</td>\n",
       "    </tr>\n",
       "    <tr>\n",
       "      <th>4</th>\n",
       "      <td>ACLI</td>\n",
       "      <td>AMERICAN COMMERCIAL LINES INC.</td>\n",
       "      <td>4492</td>\n",
       "      <td>21.0</td>\n",
       "      <td>21.0</td>\n",
       "      <td>19.0</td>\n",
       "      <td>56.599998</td>\n",
       "      <td>80.0</td>\n",
       "      <td>1.0</td>\n",
       "      <td>0.07</td>\n",
       "      <td>...</td>\n",
       "      <td>8250000.0</td>\n",
       "      <td>632.298</td>\n",
       "      <td>572.0</td>\n",
       "      <td>14830.0</td>\n",
       "      <td>13176.0</td>\n",
       "      <td>336.0</td>\n",
       "      <td>720.0</td>\n",
       "      <td>67.0</td>\n",
       "      <td>149.0</td>\n",
       "      <td>167.0</td>\n",
       "    </tr>\n",
       "  </tbody>\n",
       "</table>\n",
       "<p>5 rows × 22 columns</p>\n",
       "</div>"
      ],
      "text/plain": [
       "     I1                                  I2    I3  P(IPO)  P(H)  P(L)  \\\n",
       "0  AATI  ADVANCED ANALOGIC TECHNOLOGIES INC  3674    10.0   9.5   8.5   \n",
       "1  ABPI     ACCENTIA BIOPHARMACEUTICALS INC  2834     8.0  10.0   8.0   \n",
       "2  ACAD          ACADIA PHARMACEUTICALS INC  2834     7.0  14.0  12.0   \n",
       "3  ACHN       ACHILLION PHARMACEUTICALS INC  2834    11.5  16.0  14.0   \n",
       "4  ACLI     AMERICAN COMMERCIAL LINES INC.   4492    21.0  21.0  19.0   \n",
       "\n",
       "     P(1Day)     C1   C2    C3  ...            C6       C7     T1       T2  \\\n",
       "0  11.870000  122.0  1.0  3.43  ...    10600000.0   51.345  470.0  12719.0   \n",
       "1   7.250000  259.0  0.0 -1.62  ...     2400000.0   25.936  791.0  21792.0   \n",
       "2   6.700000   90.0  1.0 -1.24  ...     5000000.0    7.378  201.0   5262.0   \n",
       "3  12.390000  209.0  1.0 -0.91  ...     4500000.0    8.526  328.0   8259.0   \n",
       "4  56.599998   80.0  1.0  0.07  ...     8250000.0  632.298  572.0  14830.0   \n",
       "\n",
       "        T3     T4      T5    S1     S2     S3  \n",
       "0  11560.0  301.0   690.0  62.0  117.0  139.0  \n",
       "1  19585.0  510.0  1120.0  71.0  242.0  237.0  \n",
       "2   4785.0  128.0   325.0  61.0   33.0   60.0  \n",
       "3   7574.0  177.0   509.0  80.0   59.0  110.0  \n",
       "4  13176.0  336.0   720.0  67.0  149.0  167.0  \n",
       "\n",
       "[5 rows x 22 columns]"
      ]
     },
     "execution_count": 2,
     "metadata": {},
     "output_type": "execute_result"
    }
   ],
   "source": [
    "# Create dataframe and fill missing values\n",
    "#columns=[I1, I2, I3, P_IPO,P_H,P_L,P_1Day,C1,C2,C3,C4]\n",
    "IPO_df = pd.read_csv('Competition1_raw_data.csv', header=0, na_values=['-'])\n",
    "IPO_df.head()"
   ]
  },
  {
   "cell_type": "markdown",
   "metadata": {},
   "source": [
    "#### Data Exploration"
   ]
  },
  {
   "cell_type": "code",
   "execution_count": 3,
   "metadata": {},
   "outputs": [
    {
     "data": {
      "text/plain": [
       "Index(['I1', 'I2', 'I3', 'P(IPO)', 'P(H)', 'P(L)', 'P(1Day)', 'C1', 'C2', 'C3',\n",
       "       'C4', 'C5', 'C6', 'C7', 'T1', 'T2', 'T3', 'T4', 'T5', 'S1', 'S2', 'S3'],\n",
       "      dtype='object')"
      ]
     },
     "execution_count": 3,
     "metadata": {},
     "output_type": "execute_result"
    }
   ],
   "source": [
    "# Column names\n",
    "IPO_df.columns"
   ]
  },
  {
   "cell_type": "code",
   "execution_count": 4,
   "metadata": {},
   "outputs": [
    {
     "name": "stdout",
     "output_type": "stream",
     "text": [
      "<class 'pandas.core.frame.DataFrame'>\n",
      "RangeIndex: 682 entries, 0 to 681\n",
      "Data columns (total 22 columns):\n",
      "I1         682 non-null object\n",
      "I2         682 non-null object\n",
      "I3         674 non-null object\n",
      "P(IPO)     677 non-null float64\n",
      "P(H)       672 non-null float64\n",
      "P(L)       672 non-null float64\n",
      "P(1Day)    660 non-null float64\n",
      "C1         660 non-null float64\n",
      "C2         660 non-null float64\n",
      "C3         646 non-null float64\n",
      "C4         660 non-null float64\n",
      "C5         676 non-null float64\n",
      "C6         676 non-null float64\n",
      "C7         610 non-null float64\n",
      "T1         681 non-null float64\n",
      "T2         681 non-null float64\n",
      "T3         681 non-null float64\n",
      "T4         681 non-null float64\n",
      "T5         681 non-null float64\n",
      "S1         681 non-null float64\n",
      "S2         681 non-null float64\n",
      "S3         681 non-null float64\n",
      "dtypes: float64(19), object(3)\n",
      "memory usage: 117.3+ KB\n"
     ]
    }
   ],
   "source": [
    "IPO_df.info()"
   ]
  },
  {
   "cell_type": "markdown",
   "metadata": {},
   "source": [
    "Our dataframe has 682 rows and 22 columns. The datatypes for three columns is object and rest are float.   \n",
    "There are missing values in columns I3, P(IPO), P(H), P(L), P(1Day), C1, C2, C3, C4, C5, C6, C7, T1, T2, T3, T4, T5, S1, S2, S3"
   ]
  },
  {
   "cell_type": "code",
   "execution_count": 5,
   "metadata": {},
   "outputs": [],
   "source": [
    "# Change C2 datatype to bool as per the data dictionary.\n",
    "IPO_df['C2'] = IPO_df['C2'].astype('bool')"
   ]
  },
  {
   "cell_type": "code",
   "execution_count": 6,
   "metadata": {},
   "outputs": [],
   "source": [
    "pd.options.mode.use_inf_as_na = True"
   ]
  },
  {
   "cell_type": "markdown",
   "metadata": {},
   "source": [
    "#### Impute with mean for continuous data and mode for categorical data"
   ]
  },
  {
   "cell_type": "code",
   "execution_count": 7,
   "metadata": {},
   "outputs": [
    {
     "name": "stdout",
     "output_type": "stream",
     "text": [
      "<class 'pandas.core.frame.DataFrame'>\n",
      "RangeIndex: 682 entries, 0 to 681\n",
      "Data columns (total 22 columns):\n",
      "I1         682 non-null object\n",
      "I2         682 non-null object\n",
      "I3         682 non-null object\n",
      "P(IPO)     682 non-null float64\n",
      "P(H)       682 non-null float64\n",
      "P(L)       682 non-null float64\n",
      "P(1Day)    682 non-null float64\n",
      "C1         682 non-null float64\n",
      "C2         682 non-null bool\n",
      "C3         682 non-null float64\n",
      "C4         682 non-null float64\n",
      "C5         682 non-null float64\n",
      "C6         682 non-null float64\n",
      "C7         682 non-null float64\n",
      "T1         682 non-null float64\n",
      "T2         682 non-null float64\n",
      "T3         682 non-null float64\n",
      "T4         682 non-null float64\n",
      "T5         682 non-null float64\n",
      "S1         682 non-null float64\n",
      "S2         682 non-null float64\n",
      "S3         682 non-null float64\n",
      "dtypes: bool(1), float64(18), object(3)\n",
      "memory usage: 112.6+ KB\n"
     ]
    }
   ],
   "source": [
    "# Replace the missing data with mean\n",
    "IPO_df['P(IPO)'].fillna(IPO_df['P(IPO)'].mean(), inplace = True)\n",
    "IPO_df['P(H)'].fillna(IPO_df['P(H)'].mean(), inplace = True)\n",
    "IPO_df['P(L)'].fillna(IPO_df['P(L)'].mean(), inplace = True)\n",
    "IPO_df['P(1Day)'].fillna(IPO_df['P(1Day)'].mean(), inplace = True)\n",
    "IPO_df['C1'].fillna(IPO_df['C1'].mean(), inplace = True)\n",
    "IPO_df['C3'].fillna(IPO_df['C3'].mean(), inplace = True)\n",
    "IPO_df['C4'].fillna(IPO_df['C4'].mean(), inplace = True)\n",
    "IPO_df['C5'].fillna(IPO_df['C5'].mean(), inplace = True)\n",
    "IPO_df['C6'].fillna(IPO_df['C6'].mean(), inplace = True)\n",
    "IPO_df['C7'].fillna(IPO_df['C7'].mean(), inplace = True)\n",
    "IPO_df['T1'].fillna(IPO_df['T1'].mean(), inplace = True)\n",
    "IPO_df['T2'].fillna(IPO_df['T2'].mean(), inplace = True)\n",
    "IPO_df['T3'].fillna(IPO_df['T3'].mean(), inplace = True)\n",
    "IPO_df['T4'].fillna(IPO_df['T4'].mean(), inplace = True)\n",
    "IPO_df['T5'].fillna(IPO_df['T5'].mean(), inplace = True)\n",
    "IPO_df['S1'].fillna(IPO_df['S1'].mean(), inplace = True)\n",
    "IPO_df['S2'].fillna(IPO_df['S2'].mean(), inplace = True)\n",
    "IPO_df['S3'].fillna(IPO_df['S3'].mean(), inplace = True)\n",
    "\n",
    "# Replace the missing data with mode\n",
    "IPO_df['C2'].fillna(IPO_df['C2'].mean(), inplace = True)\n",
    "\n",
    "# Imputation using fillna with chaining method and and then selecting the top category, which is the mode, with the `.index` attribute\n",
    "IPO_df['I3'].fillna(IPO_df['I3'].value_counts().index[0], inplace=True)\n",
    "\n",
    "IPO_df.info()"
   ]
  },
  {
   "cell_type": "code",
   "execution_count": 8,
   "metadata": {},
   "outputs": [
    {
     "data": {
      "text/html": [
       "<div>\n",
       "<style scoped>\n",
       "    .dataframe tbody tr th:only-of-type {\n",
       "        vertical-align: middle;\n",
       "    }\n",
       "\n",
       "    .dataframe tbody tr th {\n",
       "        vertical-align: top;\n",
       "    }\n",
       "\n",
       "    .dataframe thead th {\n",
       "        text-align: right;\n",
       "    }\n",
       "</style>\n",
       "<table border=\"1\" class=\"dataframe\">\n",
       "  <thead>\n",
       "    <tr style=\"text-align: right;\">\n",
       "      <th></th>\n",
       "      <th>P(IPO)</th>\n",
       "      <th>P(H)</th>\n",
       "      <th>P(L)</th>\n",
       "      <th>P(1Day)</th>\n",
       "      <th>C1</th>\n",
       "      <th>C3</th>\n",
       "      <th>C4</th>\n",
       "      <th>C5</th>\n",
       "      <th>C6</th>\n",
       "      <th>C7</th>\n",
       "      <th>T1</th>\n",
       "      <th>T2</th>\n",
       "      <th>T3</th>\n",
       "      <th>T4</th>\n",
       "      <th>T5</th>\n",
       "      <th>S1</th>\n",
       "      <th>S2</th>\n",
       "      <th>S3</th>\n",
       "    </tr>\n",
       "  </thead>\n",
       "  <tbody>\n",
       "    <tr>\n",
       "      <th>count</th>\n",
       "      <td>682.000000</td>\n",
       "      <td>682.000000</td>\n",
       "      <td>682.000000</td>\n",
       "      <td>682.000000</td>\n",
       "      <td>682.000000</td>\n",
       "      <td>682.000000</td>\n",
       "      <td>682.000000</td>\n",
       "      <td>6.820000e+02</td>\n",
       "      <td>6.820000e+02</td>\n",
       "      <td>682.000000</td>\n",
       "      <td>682.000000</td>\n",
       "      <td>682.000000</td>\n",
       "      <td>682.000000</td>\n",
       "      <td>682.000000</td>\n",
       "      <td>682.000000</td>\n",
       "      <td>682.000000</td>\n",
       "      <td>682.000000</td>\n",
       "      <td>682.000000</td>\n",
       "    </tr>\n",
       "    <tr>\n",
       "      <th>mean</th>\n",
       "      <td>13.837666</td>\n",
       "      <td>15.481190</td>\n",
       "      <td>13.515045</td>\n",
       "      <td>25.934766</td>\n",
       "      <td>149.728788</td>\n",
       "      <td>1.788904</td>\n",
       "      <td>0.007282</td>\n",
       "      <td>4.935776e+07</td>\n",
       "      <td>1.241519e+07</td>\n",
       "      <td>500.459962</td>\n",
       "      <td>465.634361</td>\n",
       "      <td>12758.606461</td>\n",
       "      <td>11395.844347</td>\n",
       "      <td>294.353891</td>\n",
       "      <td>679.220264</td>\n",
       "      <td>68.421439</td>\n",
       "      <td>120.104258</td>\n",
       "      <td>144.759178</td>\n",
       "    </tr>\n",
       "    <tr>\n",
       "      <th>std</th>\n",
       "      <td>6.031467</td>\n",
       "      <td>6.604398</td>\n",
       "      <td>5.792641</td>\n",
       "      <td>72.042293</td>\n",
       "      <td>150.328785</td>\n",
       "      <td>158.308600</td>\n",
       "      <td>0.032775</td>\n",
       "      <td>1.039156e+08</td>\n",
       "      <td>2.501761e+07</td>\n",
       "      <td>1558.767222</td>\n",
       "      <td>175.612567</td>\n",
       "      <td>5445.641920</td>\n",
       "      <td>4836.115518</td>\n",
       "      <td>121.443374</td>\n",
       "      <td>472.566975</td>\n",
       "      <td>39.067810</td>\n",
       "      <td>84.766654</td>\n",
       "      <td>69.225403</td>\n",
       "    </tr>\n",
       "    <tr>\n",
       "      <th>min</th>\n",
       "      <td>3.000000</td>\n",
       "      <td>0.000000</td>\n",
       "      <td>3.000000</td>\n",
       "      <td>0.000000</td>\n",
       "      <td>10.000000</td>\n",
       "      <td>-786.239000</td>\n",
       "      <td>-0.162352</td>\n",
       "      <td>3.693227e+06</td>\n",
       "      <td>5.250000e+05</td>\n",
       "      <td>0.074000</td>\n",
       "      <td>132.000000</td>\n",
       "      <td>0.000000</td>\n",
       "      <td>0.000000</td>\n",
       "      <td>0.000000</td>\n",
       "      <td>-1.000000</td>\n",
       "      <td>-1.000000</td>\n",
       "      <td>20.000000</td>\n",
       "      <td>26.000000</td>\n",
       "    </tr>\n",
       "    <tr>\n",
       "      <th>25%</th>\n",
       "      <td>10.000000</td>\n",
       "      <td>13.000000</td>\n",
       "      <td>11.000000</td>\n",
       "      <td>11.092500</td>\n",
       "      <td>85.000000</td>\n",
       "      <td>-0.750000</td>\n",
       "      <td>-0.013352</td>\n",
       "      <td>1.874682e+07</td>\n",
       "      <td>5.004180e+06</td>\n",
       "      <td>41.511500</td>\n",
       "      <td>351.250000</td>\n",
       "      <td>9195.750000</td>\n",
       "      <td>8168.000000</td>\n",
       "      <td>213.250000</td>\n",
       "      <td>462.250000</td>\n",
       "      <td>45.000000</td>\n",
       "      <td>73.000000</td>\n",
       "      <td>100.000000</td>\n",
       "    </tr>\n",
       "    <tr>\n",
       "      <th>50%</th>\n",
       "      <td>13.500000</td>\n",
       "      <td>15.481190</td>\n",
       "      <td>13.000000</td>\n",
       "      <td>15.000000</td>\n",
       "      <td>110.000000</td>\n",
       "      <td>0.070000</td>\n",
       "      <td>0.007282</td>\n",
       "      <td>2.759165e+07</td>\n",
       "      <td>7.500000e+06</td>\n",
       "      <td>134.738000</td>\n",
       "      <td>444.500000</td>\n",
       "      <td>12047.000000</td>\n",
       "      <td>10789.000000</td>\n",
       "      <td>279.500000</td>\n",
       "      <td>624.500000</td>\n",
       "      <td>60.000000</td>\n",
       "      <td>100.500000</td>\n",
       "      <td>134.000000</td>\n",
       "    </tr>\n",
       "    <tr>\n",
       "      <th>75%</th>\n",
       "      <td>17.000000</td>\n",
       "      <td>17.000000</td>\n",
       "      <td>15.000000</td>\n",
       "      <td>21.030001</td>\n",
       "      <td>152.750000</td>\n",
       "      <td>0.600000</td>\n",
       "      <td>0.030941</td>\n",
       "      <td>4.938184e+07</td>\n",
       "      <td>1.208721e+07</td>\n",
       "      <td>500.459962</td>\n",
       "      <td>550.750000</td>\n",
       "      <td>15240.250000</td>\n",
       "      <td>13751.500000</td>\n",
       "      <td>353.750000</td>\n",
       "      <td>794.500000</td>\n",
       "      <td>84.750000</td>\n",
       "      <td>141.750000</td>\n",
       "      <td>173.000000</td>\n",
       "    </tr>\n",
       "    <tr>\n",
       "      <th>max</th>\n",
       "      <td>85.000000</td>\n",
       "      <td>135.000000</td>\n",
       "      <td>108.000000</td>\n",
       "      <td>1159.200562</td>\n",
       "      <td>2087.000000</td>\n",
       "      <td>3864.500000</td>\n",
       "      <td>0.092896</td>\n",
       "      <td>2.138085e+09</td>\n",
       "      <td>4.212336e+08</td>\n",
       "      <td>30683.000000</td>\n",
       "      <td>1750.000000</td>\n",
       "      <td>49056.000000</td>\n",
       "      <td>43952.000000</td>\n",
       "      <td>1058.000000</td>\n",
       "      <td>10277.000000</td>\n",
       "      <td>309.000000</td>\n",
       "      <td>944.000000</td>\n",
       "      <td>883.000000</td>\n",
       "    </tr>\n",
       "  </tbody>\n",
       "</table>\n",
       "</div>"
      ],
      "text/plain": [
       "           P(IPO)        P(H)        P(L)      P(1Day)           C1  \\\n",
       "count  682.000000  682.000000  682.000000   682.000000   682.000000   \n",
       "mean    13.837666   15.481190   13.515045    25.934766   149.728788   \n",
       "std      6.031467    6.604398    5.792641    72.042293   150.328785   \n",
       "min      3.000000    0.000000    3.000000     0.000000    10.000000   \n",
       "25%     10.000000   13.000000   11.000000    11.092500    85.000000   \n",
       "50%     13.500000   15.481190   13.000000    15.000000   110.000000   \n",
       "75%     17.000000   17.000000   15.000000    21.030001   152.750000   \n",
       "max     85.000000  135.000000  108.000000  1159.200562  2087.000000   \n",
       "\n",
       "                C3          C4            C5            C6            C7  \\\n",
       "count   682.000000  682.000000  6.820000e+02  6.820000e+02    682.000000   \n",
       "mean      1.788904    0.007282  4.935776e+07  1.241519e+07    500.459962   \n",
       "std     158.308600    0.032775  1.039156e+08  2.501761e+07   1558.767222   \n",
       "min    -786.239000   -0.162352  3.693227e+06  5.250000e+05      0.074000   \n",
       "25%      -0.750000   -0.013352  1.874682e+07  5.004180e+06     41.511500   \n",
       "50%       0.070000    0.007282  2.759165e+07  7.500000e+06    134.738000   \n",
       "75%       0.600000    0.030941  4.938184e+07  1.208721e+07    500.459962   \n",
       "max    3864.500000    0.092896  2.138085e+09  4.212336e+08  30683.000000   \n",
       "\n",
       "                T1            T2            T3           T4            T5  \\\n",
       "count   682.000000    682.000000    682.000000   682.000000    682.000000   \n",
       "mean    465.634361  12758.606461  11395.844347   294.353891    679.220264   \n",
       "std     175.612567   5445.641920   4836.115518   121.443374    472.566975   \n",
       "min     132.000000      0.000000      0.000000     0.000000     -1.000000   \n",
       "25%     351.250000   9195.750000   8168.000000   213.250000    462.250000   \n",
       "50%     444.500000  12047.000000  10789.000000   279.500000    624.500000   \n",
       "75%     550.750000  15240.250000  13751.500000   353.750000    794.500000   \n",
       "max    1750.000000  49056.000000  43952.000000  1058.000000  10277.000000   \n",
       "\n",
       "               S1          S2          S3  \n",
       "count  682.000000  682.000000  682.000000  \n",
       "mean    68.421439  120.104258  144.759178  \n",
       "std     39.067810   84.766654   69.225403  \n",
       "min     -1.000000   20.000000   26.000000  \n",
       "25%     45.000000   73.000000  100.000000  \n",
       "50%     60.000000  100.500000  134.000000  \n",
       "75%     84.750000  141.750000  173.000000  \n",
       "max    309.000000  944.000000  883.000000  "
      ]
     },
     "execution_count": 8,
     "metadata": {},
     "output_type": "execute_result"
    }
   ],
   "source": [
    "IPO_df.describe()"
   ]
  },
  {
   "cell_type": "markdown",
   "metadata": {},
   "source": [
    "#### Handling Outliers"
   ]
  },
  {
   "cell_type": "code",
   "execution_count": 45,
   "metadata": {},
   "outputs": [
    {
     "data": {
      "text/plain": [
       "<matplotlib.axes._subplots.AxesSubplot at 0x7f934a6a7438>"
      ]
     },
     "execution_count": 45,
     "metadata": {},
     "output_type": "execute_result"
    },
    {
     "data": {
      "image/png": "[encoded data removed]",
      "text/plain": [
       "<Figure size 432x288 with 1 Axes>"
      ]
     },
     "metadata": {},
     "output_type": "display_data"
    }
   ],
   "source": [
    "IPO_df.boxplot(['P(IPO)', 'P(H)', 'P(L)', 'P(1Day)'])"
   ]
  },
  {
   "cell_type": "code",
   "execution_count": 46,
   "metadata": {},
   "outputs": [
    {
     "data": {
      "text/plain": [
       "<matplotlib.axes._subplots.AxesSubplot at 0x7f934a75dbe0>"
      ]
     },
     "execution_count": 46,
     "metadata": {},
     "output_type": "execute_result"
    },
    {
     "data": {
      "image/png": "[encoded data removed]",
      "text/plain": [
       "<Figure size 432x288 with 1 Axes>"
      ]
     },
     "metadata": {},
     "output_type": "display_data"
    }
   ],
   "source": [
    "IPO_df.boxplot(['C1', 'C3', 'C4','C5', 'C6', 'C7'])"
   ]
  },
  {
   "cell_type": "code",
   "execution_count": 47,
   "metadata": {},
   "outputs": [],
   "source": [
    "# Seperate the continuous variables for removing skewness in distribution.\n",
    "df_num = IPO_df.select_dtypes(include=[\"float\"])\n",
    "df_cat = IPO_df.select_dtypes(exclude=[\"float\"])"
   ]
  },
  {
   "cell_type": "code",
   "execution_count": 48,
   "metadata": {},
   "outputs": [],
   "source": [
    "# Removing outliers from the data using InterQuartilRange\n",
    "Q1 = df_num.quantile(0.20)\n",
    "Q3 = df_num.quantile(0.80)\n",
    "IQR = Q3 - Q1\n",
    "idx = ~((df_num < (Q1 - 1.5 * IQR)) | (df_num > (Q3 + 1.5 * IQR))).any(axis=1)\n",
    "IPO_df = pd.concat([df_num.loc[idx], df_cat.loc[idx]], axis=1)"
   ]
  },
  {
   "cell_type": "code",
   "execution_count": 49,
   "metadata": {},
   "outputs": [
    {
     "data": {
      "image/png": "[encoded data removed]",
      "text/plain": [
       "<Figure size 864x864 with 36 Axes>"
      ]
     },
     "metadata": {},
     "output_type": "display_data"
    }
   ],
   "source": [
    "# Plot histogram to see the skewness/distribution of each column\n",
    "pd.DataFrame.hist(IPO_df, figsize = [12,12]);"
   ]
  },
  {
   "cell_type": "markdown",
   "metadata": {},
   "source": [
    "#### Add variables using existing data based on the data dictionary."
   ]
  },
  {
   "cell_type": "markdown",
   "metadata": {},
   "source": [
    "###### Derive new variables from existing variable and by creating dummy variables."
   ]
  },
  {
   "cell_type": "code",
   "execution_count": 50,
   "metadata": {},
   "outputs": [],
   "source": [
    "# Add Positive EPS dummy column C3_D with dummy variable set to 1 if C3 is positive, otherwise 0. \n",
    "IPO_df['C3_D'] = pd.get_dummies(IPO_df.C3 > 0, drop_first=True, dtype=bool)\n",
    "\n",
    "# Add Share Overhang column C5_D.\n",
    "IPO_df['C5_D']=IPO_df['C5']/IPO_df['C6']\n",
    "\n",
    "# Add Up Revision column C6_D.\n",
    "IPO_df['P(mid)'] = ((IPO_df['P(H)']+IPO_df['P(L)'])/2)\n",
    "IPO_df['C6_D'] = ((IPO_df['P(IPO)']-IPO_df['P(mid)'])/IPO_df['P(mid)']*0.01).where((IPO_df['P(IPO)'] > IPO_df['P(mid)']), 0)"
   ]
  },
  {
   "cell_type": "code",
   "execution_count": 51,
   "metadata": {},
   "outputs": [],
   "source": [
    "# Create column T1_D with Percent of long sentences\n",
    "IPO_df['T1_D']=IPO_df['T4']/IPO_df['T1']\n",
    "# Create column T3_D with Percent of real words\n",
    "IPO_df['T3_D']=IPO_df['T3']/IPO_df['T2']\n",
    "# Create column T5_D with Percent of long words\n",
    "IPO_df['T5_D']=IPO_df['T5']/IPO_df['T2']\n",
    "# Create column S1_D with Percent of Positive words\n",
    "IPO_df['S1_D']=IPO_df['S1']/IPO_df['T2']\n",
    "# Create column S2_D with Percent of real words\n",
    "IPO_df['S2_D']=IPO_df['S2']/IPO_df['T2']\n",
    "# Create column S3_D with Percent of real words\n",
    "IPO_df['S3_D']=IPO_df['S3']/IPO_df['T2']"
   ]
  },
  {
   "cell_type": "code",
   "execution_count": 52,
   "metadata": {},
   "outputs": [
    {
     "name": "stdout",
     "output_type": "stream",
     "text": [
      "<class 'pandas.core.frame.DataFrame'>\n",
      "Int64Index: 351 entries, 3 to 680\n",
      "Data columns (total 34 columns):\n",
      "P(IPO)     351 non-null float64\n",
      "P(H)       351 non-null float64\n",
      "P(L)       351 non-null float64\n",
      "P(1Day)    351 non-null float64\n",
      "C1         351 non-null float64\n",
      "C3         351 non-null float64\n",
      "C4         351 non-null float64\n",
      "C5         351 non-null float64\n",
      "C6         351 non-null float64\n",
      "C7         351 non-null float64\n",
      "T1         351 non-null float64\n",
      "T2         351 non-null float64\n",
      "T3         351 non-null float64\n",
      "T4         351 non-null float64\n",
      "T5         351 non-null float64\n",
      "S1         351 non-null float64\n",
      "S2         351 non-null float64\n",
      "S3         351 non-null float64\n",
      "C5_D       351 non-null float64\n",
      "P(mid)     351 non-null float64\n",
      "C6_D       351 non-null float64\n",
      "T1_D       351 non-null float64\n",
      "T3_D       351 non-null float64\n",
      "T5_D       351 non-null float64\n",
      "S1_D       351 non-null float64\n",
      "S2_D       351 non-null float64\n",
      "S3_D       351 non-null float64\n",
      "I1         351 non-null object\n",
      "I2         351 non-null object\n",
      "I3         351 non-null object\n",
      "C2         351 non-null bool\n",
      "C3_D       351 non-null bool\n",
      "Y1         351 non-null int64\n",
      "Y2         351 non-null int64\n",
      "dtypes: bool(2), float64(27), int64(2), object(3)\n",
      "memory usage: 91.2+ KB\n"
     ]
    }
   ],
   "source": [
    "# Replace the missing data with mean\n",
    "IPO_df['T3_D'].fillna(IPO_df['T3_D'].mean(), inplace = True)\n",
    "IPO_df['T5_D'].fillna(IPO_df['T5_D'].mean(), inplace = True)\n",
    "IPO_df['S1_D'].fillna(IPO_df['S1_D'].mean(), inplace = True)\n",
    "IPO_df['S2_D'].fillna(IPO_df['S2_D'].mean(), inplace = True)\n",
    "IPO_df['S3_D'].fillna(IPO_df['S3_D'].mean(), inplace = True)\n",
    "IPO_df.info()"
   ]
  },
  {
   "cell_type": "markdown",
   "metadata": {},
   "source": [
    "##### Adding Target Variables"
   ]
  },
  {
   "cell_type": "code",
   "execution_count": 53,
   "metadata": {},
   "outputs": [
    {
     "name": "stdout",
     "output_type": "stream",
     "text": [
      "<class 'pandas.core.frame.DataFrame'>\n",
      "Int64Index: 351 entries, 3 to 680\n",
      "Data columns (total 34 columns):\n",
      "P(IPO)     351 non-null float64\n",
      "P(H)       351 non-null float64\n",
      "P(L)       351 non-null float64\n",
      "P(1Day)    351 non-null float64\n",
      "C1         351 non-null float64\n",
      "C3         351 non-null float64\n",
      "C4         351 non-null float64\n",
      "C5         351 non-null float64\n",
      "C6         351 non-null float64\n",
      "C7         351 non-null float64\n",
      "T1         351 non-null float64\n",
      "T2         351 non-null float64\n",
      "T3         351 non-null float64\n",
      "T4         351 non-null float64\n",
      "T5         351 non-null float64\n",
      "S1         351 non-null float64\n",
      "S2         351 non-null float64\n",
      "S3         351 non-null float64\n",
      "C5_D       351 non-null float64\n",
      "P(mid)     351 non-null float64\n",
      "C6_D       351 non-null float64\n",
      "T1_D       351 non-null float64\n",
      "T3_D       351 non-null float64\n",
      "T5_D       351 non-null float64\n",
      "S1_D       351 non-null float64\n",
      "S2_D       351 non-null float64\n",
      "S3_D       351 non-null float64\n",
      "I1         351 non-null object\n",
      "I2         351 non-null object\n",
      "I3         351 non-null object\n",
      "C2         351 non-null bool\n",
      "C3_D       351 non-null bool\n",
      "Y1         351 non-null int64\n",
      "Y2         351 non-null int64\n",
      "dtypes: bool(2), float64(27), int64(2), object(3)\n",
      "memory usage: 91.2+ KB\n"
     ]
    }
   ],
   "source": [
    "# Add Pre-IPO Price Revision column Y1.\n",
    "IPO_df['Y1'] = np.where(IPO_df['P(IPO)'] < ((IPO_df['P(H)'] + IPO_df['P(L)'])/2), '1', '0')\n",
    "IPO_df['Y1'] = IPO_df['Y1'].astype('int')\n",
    "\n",
    "#Add Post-IPO Initial Return column Y2.\n",
    "IPO_df['Y2'] = np.where(IPO_df['P(IPO)'] < IPO_df['P(1Day)'], '1', '0')\n",
    "IPO_df['Y2'] = IPO_df['Y2'].astype('int')\n",
    "\n",
    "IPO_df.info()\n",
    "#df.head(5)"
   ]
  },
  {
   "cell_type": "markdown",
   "metadata": {},
   "source": [
    "##### Seperating source data and target variables"
   ]
  },
  {
   "cell_type": "code",
   "execution_count": 54,
   "metadata": {},
   "outputs": [
    {
     "data": {
      "text/plain": [
       "Index(['P(IPO)', 'P(H)', 'P(L)', 'P(1Day)', 'C1', 'C3', 'C4', 'C5', 'C6', 'C7',\n",
       "       'T1', 'T2', 'T3', 'T4', 'T5', 'S1', 'S2', 'S3', 'C5_D', 'P(mid)',\n",
       "       'C6_D', 'T1_D', 'T3_D', 'T5_D', 'S1_D', 'S2_D', 'S3_D', 'I1', 'I2',\n",
       "       'I3', 'C2', 'C3_D'],\n",
       "      dtype='object')"
      ]
     },
     "execution_count": 54,
     "metadata": {},
     "output_type": "execute_result"
    }
   ],
   "source": [
    "# Create dataframe 'var_df' for the preditive data\n",
    "var_df = IPO_df.iloc[:,:-2]\n",
    "\n",
    "# a dataframe 'target' for the target variables.\n",
    "target = IPO_df.iloc[:,-2:]\n",
    "\n",
    "var_df.columns"
   ]
  },
  {
   "cell_type": "markdown",
   "metadata": {},
   "source": [
    "#### Replacing tuple values in 'I3' column with zero"
   ]
  },
  {
   "cell_type": "code",
   "execution_count": 55,
   "metadata": {},
   "outputs": [
    {
     "data": {
      "text/plain": [
       "0"
      ]
     },
     "execution_count": 55,
     "metadata": {},
     "output_type": "execute_result"
    }
   ],
   "source": [
    "# Check for the number of null-values in I3 column\n",
    "var_df.I3.isnull().values.sum()"
   ]
  },
  {
   "cell_type": "code",
   "execution_count": 56,
   "metadata": {},
   "outputs": [
    {
     "data": {
      "text/plain": [
       "2834                38\n",
       "7372                33\n",
       "3674                18\n",
       "3841                17\n",
       "7389                16\n",
       "1311                 9\n",
       "3845                 9\n",
       "7371                 7\n",
       "5812                 6\n",
       "7373                 6\n",
       "4412                 6\n",
       "3661                 5\n",
       "7359                 5\n",
       "4899                 4\n",
       "5600                 4\n",
       "8731                 4\n",
       "7374                 4\n",
       "2836                 4\n",
       "8742                 4\n",
       "3572                 4\n",
       "2860                 4\n",
       "7379                 3\n",
       "4911                 3\n",
       "3571                 3\n",
       "3825                 3\n",
       "8200                 3\n",
       "3663                 3\n",
       "6324                 3\n",
       "3842                 3\n",
       "4512                 2\n",
       "                    ..\n",
       "2711                 1\n",
       "7389, 5063           1\n",
       "8011                 1\n",
       "3999                 1\n",
       "4941                 1\n",
       "3629                 1\n",
       "3663, 3861, 6794     1\n",
       "7830                 1\n",
       "4813                 1\n",
       "5945                 1\n",
       "5810                 1\n",
       "4581                 1\n",
       "3100                 1\n",
       "5331                 1\n",
       "8082                 1\n",
       "4400                 1\n",
       "5531                 1\n",
       "5499                 1\n",
       "4931                 1\n",
       "2835                 1\n",
       "3990                 1\n",
       "3140                 1\n",
       "3822                 1\n",
       "7311                 1\n",
       "3081                 1\n",
       "5641                 1\n",
       "5149                 1\n",
       "1446                 1\n",
       "3440                 1\n",
       "5400                 1\n",
       "Name: I3, Length: 129, dtype: int64"
      ]
     },
     "execution_count": 56,
     "metadata": {},
     "output_type": "execute_result"
    }
   ],
   "source": [
    "var_df['I3'].value_counts()"
   ]
  },
  {
   "cell_type": "code",
   "execution_count": 57,
   "metadata": {},
   "outputs": [
    {
     "name": "stderr",
     "output_type": "stream",
     "text": [
      "/opt/tljh/user/lib/python3.6/site-packages/ipykernel_launcher.py:2: SettingWithCopyWarning: \n",
      "A value is trying to be set on a copy of a slice from a DataFrame\n",
      "\n",
      "See the caveats in the documentation: http://pandas.pydata.org/pandas-docs/stable/indexing.html#indexing-view-versus-copy\n",
      "  \n",
      "/opt/tljh/user/lib/python3.6/site-packages/ipykernel_launcher.py:3: SettingWithCopyWarning: \n",
      "A value is trying to be set on a copy of a slice from a DataFrame\n",
      "\n",
      "See the caveats in the documentation: http://pandas.pydata.org/pandas-docs/stable/indexing.html#indexing-view-versus-copy\n",
      "  This is separate from the ipykernel package so we can avoid doing imports until\n"
     ]
    },
    {
     "data": {
      "text/plain": [
       "2834    38\n",
       "7372    33\n",
       "3674    18\n",
       "3841    17\n",
       "7389    16\n",
       "1311     9\n",
       "3845     9\n",
       "7371     7\n",
       "5812     6\n",
       "7373     6\n",
       "4412     6\n",
       "3661     5\n",
       "7359     5\n",
       "4899     4\n",
       "5600     4\n",
       "8731     4\n",
       "7374     4\n",
       "2836     4\n",
       "8742     4\n",
       "2860     4\n",
       "3572     4\n",
       "6324     3\n",
       "3571     3\n",
       "7379     3\n",
       "3825     3\n",
       "8200     3\n",
       "3842     3\n",
       "0        3\n",
       "4911     3\n",
       "3663     3\n",
       "        ..\n",
       "7384     1\n",
       "3531     1\n",
       "2750     1\n",
       "2711     1\n",
       "8011     1\n",
       "3999     1\n",
       "4941     1\n",
       "7830     1\n",
       "5945     1\n",
       "3440     1\n",
       "4813     1\n",
       "5810     1\n",
       "4581     1\n",
       "3100     1\n",
       "4400     1\n",
       "3629     1\n",
       "8082     1\n",
       "5531     1\n",
       "5499     1\n",
       "4931     1\n",
       "1446     1\n",
       "2835     1\n",
       "3990     1\n",
       "3140     1\n",
       "3822     1\n",
       "7311     1\n",
       "3081     1\n",
       "5641     1\n",
       "5149     1\n",
       "5400     1\n",
       "Name: I3, Length: 127, dtype: int64"
      ]
     },
     "execution_count": 57,
     "metadata": {},
     "output_type": "execute_result"
    }
   ],
   "source": [
    "# check the value in column contains ',', if so then replace the whole value as '0'\n",
    "var_df.I3[var_df.I3.str.contains(\",\")] = '0'\n",
    "var_df.I3[var_df.I3.str.contains(\" \")] = '0'\n",
    "\n",
    "# look at the value counts to see if they are changed\n",
    "var_df['I3'].value_counts()"
   ]
  },
  {
   "cell_type": "code",
   "execution_count": 58,
   "metadata": {},
   "outputs": [],
   "source": [
    "# Changing I3 datatype to float\n",
    "var_df['I3'] = var_df['I3'].astype('float')"
   ]
  },
  {
   "cell_type": "markdown",
   "metadata": {},
   "source": [
    "#### Binning the variable 'I3'"
   ]
  },
  {
   "cell_type": "code",
   "execution_count": 59,
   "metadata": {},
   "outputs": [
    {
     "data": {
      "image/png": "[encoded data removed]",
      "text/plain": [
       "<Figure size 792x360 with 1 Axes>"
      ]
     },
     "metadata": {},
     "output_type": "display_data"
    }
   ],
   "source": [
    "# Check distribution of the data in I3 column for binning.\n",
    "pd.Series.hist(var_df['I3'], figsize = [11,5]);"
   ]
  },
  {
   "cell_type": "code",
   "execution_count": 60,
   "metadata": {},
   "outputs": [
    {
     "data": {
      "text/html": [
       "<div>\n",
       "<style scoped>\n",
       "    .dataframe tbody tr th:only-of-type {\n",
       "        vertical-align: middle;\n",
       "    }\n",
       "\n",
       "    .dataframe tbody tr th {\n",
       "        vertical-align: top;\n",
       "    }\n",
       "\n",
       "    .dataframe thead th {\n",
       "        text-align: right;\n",
       "    }\n",
       "</style>\n",
       "<table border=\"1\" class=\"dataframe\">\n",
       "  <thead>\n",
       "    <tr style=\"text-align: right;\">\n",
       "      <th></th>\n",
       "      <th>P(IPO)</th>\n",
       "      <th>P(H)</th>\n",
       "      <th>P(L)</th>\n",
       "      <th>P(1Day)</th>\n",
       "      <th>C1</th>\n",
       "      <th>C3</th>\n",
       "      <th>C4</th>\n",
       "      <th>C5</th>\n",
       "      <th>C6</th>\n",
       "      <th>C7</th>\n",
       "      <th>...</th>\n",
       "      <th>S2_D</th>\n",
       "      <th>S3_D</th>\n",
       "      <th>I1</th>\n",
       "      <th>I2</th>\n",
       "      <th>I3</th>\n",
       "      <th>C2</th>\n",
       "      <th>C3_D</th>\n",
       "      <th>Class_1.0</th>\n",
       "      <th>Class_2.0</th>\n",
       "      <th>Class_3.0</th>\n",
       "    </tr>\n",
       "  </thead>\n",
       "  <tbody>\n",
       "    <tr>\n",
       "      <th>3</th>\n",
       "      <td>11.500000</td>\n",
       "      <td>16.00000</td>\n",
       "      <td>14.000000</td>\n",
       "      <td>12.390000</td>\n",
       "      <td>209.000000</td>\n",
       "      <td>-0.910000</td>\n",
       "      <td>0.020023</td>\n",
       "      <td>1.484864e+07</td>\n",
       "      <td>4.500000e+06</td>\n",
       "      <td>8.526000</td>\n",
       "      <td>...</td>\n",
       "      <td>0.007144</td>\n",
       "      <td>0.013319</td>\n",
       "      <td>ACHN</td>\n",
       "      <td>ACHILLION PHARMACEUTICALS INC</td>\n",
       "      <td>1.0</td>\n",
       "      <td>True</td>\n",
       "      <td>False</td>\n",
       "      <td>1</td>\n",
       "      <td>0</td>\n",
       "      <td>0</td>\n",
       "    </tr>\n",
       "    <tr>\n",
       "      <th>6</th>\n",
       "      <td>6.000000</td>\n",
       "      <td>13.00000</td>\n",
       "      <td>11.000000</td>\n",
       "      <td>6.720000</td>\n",
       "      <td>128.000000</td>\n",
       "      <td>-1.870000</td>\n",
       "      <td>0.004106</td>\n",
       "      <td>1.904702e+07</td>\n",
       "      <td>5.500000e+06</td>\n",
       "      <td>5.146000</td>\n",
       "      <td>...</td>\n",
       "      <td>0.006727</td>\n",
       "      <td>0.008567</td>\n",
       "      <td>ACOR</td>\n",
       "      <td>ACORDA THERAPEUTICS INC</td>\n",
       "      <td>1.0</td>\n",
       "      <td>True</td>\n",
       "      <td>False</td>\n",
       "      <td>1</td>\n",
       "      <td>0</td>\n",
       "      <td>0</td>\n",
       "    </tr>\n",
       "    <tr>\n",
       "      <th>8</th>\n",
       "      <td>15.000000</td>\n",
       "      <td>18.00000</td>\n",
       "      <td>16.000000</td>\n",
       "      <td>15.900000</td>\n",
       "      <td>100.000000</td>\n",
       "      <td>-0.510000</td>\n",
       "      <td>-0.029316</td>\n",
       "      <td>5.298250e+07</td>\n",
       "      <td>1.100000e+07</td>\n",
       "      <td>279.600000</td>\n",
       "      <td>...</td>\n",
       "      <td>0.008371</td>\n",
       "      <td>0.015797</td>\n",
       "      <td>ACTV</td>\n",
       "      <td>ACTIVE NETWORK INC</td>\n",
       "      <td>3.0</td>\n",
       "      <td>True</td>\n",
       "      <td>False</td>\n",
       "      <td>0</td>\n",
       "      <td>0</td>\n",
       "      <td>1</td>\n",
       "    </tr>\n",
       "    <tr>\n",
       "      <th>9</th>\n",
       "      <td>9.000000</td>\n",
       "      <td>19.00000</td>\n",
       "      <td>17.000000</td>\n",
       "      <td>0.000000</td>\n",
       "      <td>106.000000</td>\n",
       "      <td>1.490000</td>\n",
       "      <td>-0.024925</td>\n",
       "      <td>3.362269e+07</td>\n",
       "      <td>1.100000e+07</td>\n",
       "      <td>494.008000</td>\n",
       "      <td>...</td>\n",
       "      <td>0.009853</td>\n",
       "      <td>0.016094</td>\n",
       "      <td>ACW</td>\n",
       "      <td>ACCURIDE CORP</td>\n",
       "      <td>1.0</td>\n",
       "      <td>True</td>\n",
       "      <td>True</td>\n",
       "      <td>1</td>\n",
       "      <td>0</td>\n",
       "      <td>0</td>\n",
       "    </tr>\n",
       "    <tr>\n",
       "      <th>10</th>\n",
       "      <td>13.837666</td>\n",
       "      <td>15.48119</td>\n",
       "      <td>13.515045</td>\n",
       "      <td>25.934766</td>\n",
       "      <td>149.728788</td>\n",
       "      <td>1.788904</td>\n",
       "      <td>0.007282</td>\n",
       "      <td>4.935776e+07</td>\n",
       "      <td>1.241519e+07</td>\n",
       "      <td>500.459962</td>\n",
       "      <td>...</td>\n",
       "      <td>0.008628</td>\n",
       "      <td>0.009822</td>\n",
       "      <td>ADKU</td>\n",
       "      <td>ADCARE HEALTH SYSTEMS, INC</td>\n",
       "      <td>1.0</td>\n",
       "      <td>True</td>\n",
       "      <td>True</td>\n",
       "      <td>1</td>\n",
       "      <td>0</td>\n",
       "      <td>0</td>\n",
       "    </tr>\n",
       "  </tbody>\n",
       "</table>\n",
       "<p>5 rows × 35 columns</p>\n",
       "</div>"
      ],
      "text/plain": [
       "       P(IPO)      P(H)       P(L)    P(1Day)          C1        C3        C4  \\\n",
       "3   11.500000  16.00000  14.000000  12.390000  209.000000 -0.910000  0.020023   \n",
       "6    6.000000  13.00000  11.000000   6.720000  128.000000 -1.870000  0.004106   \n",
       "8   15.000000  18.00000  16.000000  15.900000  100.000000 -0.510000 -0.029316   \n",
       "9    9.000000  19.00000  17.000000   0.000000  106.000000  1.490000 -0.024925   \n",
       "10  13.837666  15.48119  13.515045  25.934766  149.728788  1.788904  0.007282   \n",
       "\n",
       "              C5            C6          C7    ...          S2_D      S3_D  \\\n",
       "3   1.484864e+07  4.500000e+06    8.526000    ...      0.007144  0.013319   \n",
       "6   1.904702e+07  5.500000e+06    5.146000    ...      0.006727  0.008567   \n",
       "8   5.298250e+07  1.100000e+07  279.600000    ...      0.008371  0.015797   \n",
       "9   3.362269e+07  1.100000e+07  494.008000    ...      0.009853  0.016094   \n",
       "10  4.935776e+07  1.241519e+07  500.459962    ...      0.008628  0.009822   \n",
       "\n",
       "      I1                             I2   I3    C2   C3_D  Class_1.0  \\\n",
       "3   ACHN  ACHILLION PHARMACEUTICALS INC  1.0  True  False          1   \n",
       "6   ACOR        ACORDA THERAPEUTICS INC  1.0  True  False          1   \n",
       "8   ACTV             ACTIVE NETWORK INC  3.0  True  False          0   \n",
       "9    ACW                  ACCURIDE CORP  1.0  True   True          1   \n",
       "10  ADKU     ADCARE HEALTH SYSTEMS, INC  1.0  True   True          1   \n",
       "\n",
       "    Class_2.0  Class_3.0  \n",
       "3           0          0  \n",
       "6           0          0  \n",
       "8           0          1  \n",
       "9           0          0  \n",
       "10          0          0  \n",
       "\n",
       "[5 rows x 35 columns]"
      ]
     },
     "execution_count": 60,
     "metadata": {},
     "output_type": "execute_result"
    }
   ],
   "source": [
    "# Binning I3 data into four classes based on below range for each class\n",
    "def assign_label(df_I3):\n",
    "    if df_I3 > 0 and df_I3 < 4000:\n",
    "        return 1\n",
    "    elif df_I3 >= 4000 and df_I3 < 6000:\n",
    "        return 2\n",
    "    elif df_I3 >= 6000 and df_I3 < 10000:\n",
    "        return 3\n",
    "    elif df_I3 >= 10000:\n",
    "        return 4\n",
    "      \n",
    "var_df['I3'] = var_df['I3'].apply(assign_label)    \n",
    "dummy_df = pd.get_dummies(var_df['I3'], prefix='Class')\n",
    "df1 = pd.concat([var_df, dummy_df], axis=1)\n",
    "\n",
    "df1.head()"
   ]
  },
  {
   "cell_type": "markdown",
   "metadata": {},
   "source": [
    "##### Droping the redundant columns"
   ]
  },
  {
   "cell_type": "code",
   "execution_count": 61,
   "metadata": {},
   "outputs": [],
   "source": [
    "drop_cols = ['P(IPO)', 'P(H)', 'P(L)', 'P(1Day)', 'P(mid)','I1','I2', 'I3', 'C3', 'C4', 'C5', 'C6', 'T1', 'T2', 'T3', 'T4', 'T5', 'S1', 'S2', 'S3']"
   ]
  },
  {
   "cell_type": "code",
   "execution_count": 62,
   "metadata": {},
   "outputs": [
    {
     "name": "stdout",
     "output_type": "stream",
     "text": [
      "<class 'pandas.core.frame.DataFrame'>\n",
      "Int64Index: 351 entries, 3 to 680\n",
      "Data columns (total 15 columns):\n",
      "C1           351 non-null float64\n",
      "C7           351 non-null float64\n",
      "C5_D         351 non-null float64\n",
      "C6_D         351 non-null float64\n",
      "T1_D         351 non-null float64\n",
      "T3_D         351 non-null float64\n",
      "T5_D         351 non-null float64\n",
      "S1_D         351 non-null float64\n",
      "S2_D         351 non-null float64\n",
      "S3_D         351 non-null float64\n",
      "C2           351 non-null bool\n",
      "C3_D         351 non-null bool\n",
      "Class_1.0    351 non-null uint8\n",
      "Class_2.0    351 non-null uint8\n",
      "Class_3.0    351 non-null uint8\n",
      "dtypes: bool(2), float64(10), uint8(3)\n",
      "memory usage: 31.9 KB\n"
     ]
    }
   ],
   "source": [
    "# Drop columns 'P(IPO)', 'P(H)', 'P(L)', 'P(1Day)', 'P(mid)','I1','I2', 'I3', 'C3', 'C4', 'C5', 'C6', 'T1', 'T2', 'T3', 'T4', 'T5', 'S1', 'S2', 'S3'\n",
    "df = df1.drop(columns = drop_cols)\n",
    "df.info()"
   ]
  },
  {
   "cell_type": "code",
   "execution_count": 63,
   "metadata": {},
   "outputs": [],
   "source": [
    "# Plot histogram to see the skewness/distribution of each column\n",
    "#pd.DataFrame.hist(df, figsize = [12,12]);"
   ]
  },
  {
   "cell_type": "markdown",
   "metadata": {},
   "source": [
    "#### Handling Skewness"
   ]
  },
  {
   "cell_type": "code",
   "execution_count": 64,
   "metadata": {},
   "outputs": [],
   "source": [
    "# Remove skewness from the data using square root, log, cube root for positively skewed data.\n",
    "df['C1'] = df.C1**(1/2)\n",
    "df['C5_D'] = df['C5_D']**(1/2)\n",
    "df['C6_D'] = np.log(df['C6_D'] +1)\n",
    "df['C7'] = df.C7**(1/3)\n",
    "df['S1_D'] = df['S1_D']**(1/2)\n",
    "df['S2_D'] = df['S2_D']**(1/2)\n",
    "df['S3_D'] = df['S3_D']**(1/2)\n",
    "\n",
    "# Remove skewness from the data using square for negatively skewed data.\n",
    "df['T1_D'] = df['T1_D']**(2)\n",
    "df['T3_D'] = df['T3_D']**(2)\n",
    "df['T5_D'] = df['T5_D']**(2)"
   ]
  },
  {
   "cell_type": "code",
   "execution_count": 65,
   "metadata": {},
   "outputs": [
    {
     "data": {
      "image/png": "[encoded data removed]",
      "text/plain": [
       "<Figure size 720x720 with 16 Axes>"
      ]
     },
     "metadata": {},
     "output_type": "display_data"
    }
   ],
   "source": [
    "# Check skewness with histogram plot for each column\n",
    "pd.DataFrame.hist(df, figsize = [10,10]);"
   ]
  },
  {
   "cell_type": "code",
   "execution_count": 66,
   "metadata": {},
   "outputs": [
    {
     "name": "stdout",
     "output_type": "stream",
     "text": [
      "<class 'pandas.core.frame.DataFrame'>\n",
      "Int64Index: 351 entries, 3 to 680\n",
      "Data columns (total 15 columns):\n",
      "C1           351 non-null float64\n",
      "C7           351 non-null float64\n",
      "C5_D         351 non-null float64\n",
      "C6_D         351 non-null float64\n",
      "T1_D         351 non-null float64\n",
      "T3_D         351 non-null float64\n",
      "T5_D         351 non-null float64\n",
      "S1_D         351 non-null float64\n",
      "S2_D         351 non-null float64\n",
      "S3_D         351 non-null float64\n",
      "C2           351 non-null bool\n",
      "C3_D         351 non-null bool\n",
      "Class_1.0    351 non-null uint8\n",
      "Class_2.0    351 non-null uint8\n",
      "Class_3.0    351 non-null uint8\n",
      "dtypes: bool(2), float64(10), uint8(3)\n",
      "memory usage: 31.9 KB\n"
     ]
    }
   ],
   "source": [
    "df.info()"
   ]
  },
  {
   "cell_type": "code",
   "execution_count": 67,
   "metadata": {},
   "outputs": [
    {
     "name": "stdout",
     "output_type": "stream",
     "text": [
      "<class 'pandas.core.frame.DataFrame'>\n",
      "Int64Index: 351 entries, 3 to 680\n",
      "Data columns (total 15 columns):\n",
      "C1           351 non-null float64\n",
      "C7           351 non-null float64\n",
      "C5_D         351 non-null float64\n",
      "C6_D         351 non-null float64\n",
      "T1_D         351 non-null float64\n",
      "T3_D         351 non-null float64\n",
      "T5_D         351 non-null float64\n",
      "S1_D         351 non-null float64\n",
      "S2_D         351 non-null float64\n",
      "S3_D         351 non-null float64\n",
      "C2           351 non-null bool\n",
      "C3_D         351 non-null bool\n",
      "Class_1.0    351 non-null uint8\n",
      "Class_2.0    351 non-null uint8\n",
      "Class_3.0    351 non-null uint8\n",
      "dtypes: bool(2), float64(10), uint8(3)\n",
      "memory usage: 31.9 KB\n"
     ]
    }
   ],
   "source": [
    "# Replace the missing data with mean\n",
    "df['S1_D'].fillna(df['S1_D'].mean(), inplace = True)\n",
    "df.info()"
   ]
  },
  {
   "cell_type": "markdown",
   "metadata": {},
   "source": [
    "#### Data Normalization and Data Scaling"
   ]
  },
  {
   "cell_type": "code",
   "execution_count": 68,
   "metadata": {},
   "outputs": [
    {
     "data": {
      "text/html": [
       "<div>\n",
       "<style scoped>\n",
       "    .dataframe tbody tr th:only-of-type {\n",
       "        vertical-align: middle;\n",
       "    }\n",
       "\n",
       "    .dataframe tbody tr th {\n",
       "        vertical-align: top;\n",
       "    }\n",
       "\n",
       "    .dataframe thead th {\n",
       "        text-align: right;\n",
       "    }\n",
       "</style>\n",
       "<table border=\"1\" class=\"dataframe\">\n",
       "  <thead>\n",
       "    <tr style=\"text-align: right;\">\n",
       "      <th></th>\n",
       "      <th>C1</th>\n",
       "      <th>C7</th>\n",
       "      <th>C5_D</th>\n",
       "      <th>C6_D</th>\n",
       "      <th>T1_D</th>\n",
       "      <th>T3_D</th>\n",
       "      <th>T5_D</th>\n",
       "      <th>S1_D</th>\n",
       "      <th>S2_D</th>\n",
       "      <th>S3_D</th>\n",
       "      <th>Class_1.0</th>\n",
       "      <th>Class_2.0</th>\n",
       "      <th>Class_3.0</th>\n",
       "    </tr>\n",
       "  </thead>\n",
       "  <tbody>\n",
       "    <tr>\n",
       "      <th>count</th>\n",
       "      <td>351.000000</td>\n",
       "      <td>351.000000</td>\n",
       "      <td>351.000000</td>\n",
       "      <td>351.000000</td>\n",
       "      <td>351.000000</td>\n",
       "      <td>351.000000</td>\n",
       "      <td>351.000000</td>\n",
       "      <td>351.000000</td>\n",
       "      <td>351.000000</td>\n",
       "      <td>351.000000</td>\n",
       "      <td>351.000000</td>\n",
       "      <td>351.000000</td>\n",
       "      <td>351.000000</td>\n",
       "    </tr>\n",
       "    <tr>\n",
       "      <th>mean</th>\n",
       "      <td>10.322183</td>\n",
       "      <td>4.966322</td>\n",
       "      <td>1.910519</td>\n",
       "      <td>0.000460</td>\n",
       "      <td>0.390826</td>\n",
       "      <td>0.800014</td>\n",
       "      <td>0.002641</td>\n",
       "      <td>0.070446</td>\n",
       "      <td>0.091386</td>\n",
       "      <td>0.105713</td>\n",
       "      <td>0.501425</td>\n",
       "      <td>0.165242</td>\n",
       "      <td>0.324786</td>\n",
       "    </tr>\n",
       "    <tr>\n",
       "      <th>std</th>\n",
       "      <td>2.326940</td>\n",
       "      <td>2.155813</td>\n",
       "      <td>0.360461</td>\n",
       "      <td>0.000680</td>\n",
       "      <td>0.085501</td>\n",
       "      <td>0.038233</td>\n",
       "      <td>0.000637</td>\n",
       "      <td>0.010892</td>\n",
       "      <td>0.012297</td>\n",
       "      <td>0.010526</td>\n",
       "      <td>0.500712</td>\n",
       "      <td>0.371929</td>\n",
       "      <td>0.468963</td>\n",
       "    </tr>\n",
       "    <tr>\n",
       "      <th>min</th>\n",
       "      <td>3.162278</td>\n",
       "      <td>0.419834</td>\n",
       "      <td>0.668679</td>\n",
       "      <td>0.000000</td>\n",
       "      <td>0.156405</td>\n",
       "      <td>0.700841</td>\n",
       "      <td>0.000998</td>\n",
       "      <td>0.037268</td>\n",
       "      <td>0.046394</td>\n",
       "      <td>0.079744</td>\n",
       "      <td>0.000000</td>\n",
       "      <td>0.000000</td>\n",
       "      <td>0.000000</td>\n",
       "    </tr>\n",
       "    <tr>\n",
       "      <th>25%</th>\n",
       "      <td>9.165151</td>\n",
       "      <td>3.388815</td>\n",
       "      <td>1.680302</td>\n",
       "      <td>0.000000</td>\n",
       "      <td>0.329712</td>\n",
       "      <td>0.780992</td>\n",
       "      <td>0.002188</td>\n",
       "      <td>0.063186</td>\n",
       "      <td>0.082185</td>\n",
       "      <td>0.097913</td>\n",
       "      <td>0.000000</td>\n",
       "      <td>0.000000</td>\n",
       "      <td>0.000000</td>\n",
       "    </tr>\n",
       "    <tr>\n",
       "      <th>50%</th>\n",
       "      <td>10.198039</td>\n",
       "      <td>4.584970</td>\n",
       "      <td>1.904315</td>\n",
       "      <td>0.000000</td>\n",
       "      <td>0.390978</td>\n",
       "      <td>0.803681</td>\n",
       "      <td>0.002595</td>\n",
       "      <td>0.069673</td>\n",
       "      <td>0.091509</td>\n",
       "      <td>0.106234</td>\n",
       "      <td>1.000000</td>\n",
       "      <td>0.000000</td>\n",
       "      <td>0.000000</td>\n",
       "    </tr>\n",
       "    <tr>\n",
       "      <th>75%</th>\n",
       "      <td>11.810993</td>\n",
       "      <td>6.720620</td>\n",
       "      <td>2.138381</td>\n",
       "      <td>0.000769</td>\n",
       "      <td>0.440174</td>\n",
       "      <td>0.827264</td>\n",
       "      <td>0.003044</td>\n",
       "      <td>0.077637</td>\n",
       "      <td>0.099266</td>\n",
       "      <td>0.112702</td>\n",
       "      <td>1.000000</td>\n",
       "      <td>0.000000</td>\n",
       "      <td>1.000000</td>\n",
       "    </tr>\n",
       "    <tr>\n",
       "      <th>max</th>\n",
       "      <td>16.031220</td>\n",
       "      <td>10.150982</td>\n",
       "      <td>2.907206</td>\n",
       "      <td>0.002724</td>\n",
       "      <td>0.664364</td>\n",
       "      <td>0.893935</td>\n",
       "      <td>0.004725</td>\n",
       "      <td>0.099527</td>\n",
       "      <td>0.124757</td>\n",
       "      <td>0.132524</td>\n",
       "      <td>1.000000</td>\n",
       "      <td>1.000000</td>\n",
       "      <td>1.000000</td>\n",
       "    </tr>\n",
       "  </tbody>\n",
       "</table>\n",
       "</div>"
      ],
      "text/plain": [
       "               C1          C7        C5_D        C6_D        T1_D        T3_D  \\\n",
       "count  351.000000  351.000000  351.000000  351.000000  351.000000  351.000000   \n",
       "mean    10.322183    4.966322    1.910519    0.000460    0.390826    0.800014   \n",
       "std      2.326940    2.155813    0.360461    0.000680    0.085501    0.038233   \n",
       "min      3.162278    0.419834    0.668679    0.000000    0.156405    0.700841   \n",
       "25%      9.165151    3.388815    1.680302    0.000000    0.329712    0.780992   \n",
       "50%     10.198039    4.584970    1.904315    0.000000    0.390978    0.803681   \n",
       "75%     11.810993    6.720620    2.138381    0.000769    0.440174    0.827264   \n",
       "max     16.031220   10.150982    2.907206    0.002724    0.664364    0.893935   \n",
       "\n",
       "             T5_D        S1_D        S2_D        S3_D   Class_1.0   Class_2.0  \\\n",
       "count  351.000000  351.000000  351.000000  351.000000  351.000000  351.000000   \n",
       "mean     0.002641    0.070446    0.091386    0.105713    0.501425    0.165242   \n",
       "std      0.000637    0.010892    0.012297    0.010526    0.500712    0.371929   \n",
       "min      0.000998    0.037268    0.046394    0.079744    0.000000    0.000000   \n",
       "25%      0.002188    0.063186    0.082185    0.097913    0.000000    0.000000   \n",
       "50%      0.002595    0.069673    0.091509    0.106234    1.000000    0.000000   \n",
       "75%      0.003044    0.077637    0.099266    0.112702    1.000000    0.000000   \n",
       "max      0.004725    0.099527    0.124757    0.132524    1.000000    1.000000   \n",
       "\n",
       "        Class_3.0  \n",
       "count  351.000000  \n",
       "mean     0.324786  \n",
       "std      0.468963  \n",
       "min      0.000000  \n",
       "25%      0.000000  \n",
       "50%      0.000000  \n",
       "75%      1.000000  \n",
       "max      1.000000  "
      ]
     },
     "execution_count": 68,
     "metadata": {},
     "output_type": "execute_result"
    }
   ],
   "source": [
    "# Seperate continuous data for data scaling and data normalization\n",
    "data_num = df.select_dtypes(include=['float'])\n",
    "data_cat = df.select_dtypes(exclude=['float'])\n",
    "\n",
    "from sklearn.preprocessing import MinMaxScaler, normalize\n",
    "from sklearn.pipeline import Pipeline\n",
    "\n",
    "scaler= MinMaxScaler()\n",
    "scaler.fit_transform(data_num)\n",
    "\n",
    "#Normalize data\n",
    "normalize(data_num, norm='l1', axis=1, copy=True)\n",
    "\n",
    "data1 = pd.concat([data_num, data_cat], axis=1)\n",
    "\n",
    "data1.describe()"
   ]
  },
  {
   "cell_type": "code",
   "execution_count": 69,
   "metadata": {},
   "outputs": [],
   "source": [
    "# Change the datatypes for Y1 and Y2 to bool.\n",
    "target['Y1'] = target['Y1'].astype('bool')\n",
    "target['Y2'] = target['Y2'].astype('bool')"
   ]
  },
  {
   "cell_type": "code",
   "execution_count": 70,
   "metadata": {},
   "outputs": [],
   "source": [
    "# Change the datatypes for Class_1.0, Class_2.0 and Class_3.0 to float.\n",
    "data1['Class_1.0'] = data1['Class_1.0'].astype('float')\n",
    "data1['Class_2.0'] = data1['Class_2.0'].astype('float')\n",
    "data1['Class_3.0'] = data1['Class_3.0'].astype('float')"
   ]
  },
  {
   "cell_type": "code",
   "execution_count": 71,
   "metadata": {},
   "outputs": [
    {
     "name": "stdout",
     "output_type": "stream",
     "text": [
      "<class 'pandas.core.frame.DataFrame'>\n",
      "Int64Index: 351 entries, 3 to 680\n",
      "Data columns (total 17 columns):\n",
      "C1           351 non-null float64\n",
      "C7           351 non-null float64\n",
      "C5_D         351 non-null float64\n",
      "C6_D         351 non-null float64\n",
      "T1_D         351 non-null float64\n",
      "T3_D         351 non-null float64\n",
      "T5_D         351 non-null float64\n",
      "S1_D         351 non-null float64\n",
      "S2_D         351 non-null float64\n",
      "S3_D         351 non-null float64\n",
      "C2           351 non-null bool\n",
      "C3_D         351 non-null bool\n",
      "Class_1.0    351 non-null float64\n",
      "Class_2.0    351 non-null float64\n",
      "Class_3.0    351 non-null float64\n",
      "Y1           351 non-null bool\n",
      "Y2           351 non-null bool\n",
      "dtypes: bool(4), float64(13)\n",
      "memory usage: 39.8 KB\n"
     ]
    }
   ],
   "source": [
    "# Add target variables into our dataframe\n",
    "result_df = pd.concat([data1, target], axis=1)\n",
    "result_df.info()"
   ]
  },
  {
   "cell_type": "markdown",
   "metadata": {},
   "source": [
    "#### Feature Selection using Correlation Analysis"
   ]
  },
  {
   "cell_type": "code",
   "execution_count": 72,
   "metadata": {},
   "outputs": [
    {
     "data": {
      "text/plain": [
       "<matplotlib.axes._subplots.AxesSubplot at 0x7f934a893c88>"
      ]
     },
     "execution_count": 72,
     "metadata": {},
     "output_type": "execute_result"
    },
    {
     "data": {
      "image/png": "[encoded data removed]",
      "text/plain": [
       "<Figure size 864x720 with 2 Axes>"
      ]
     },
     "metadata": {},
     "output_type": "display_data"
    }
   ],
   "source": [
    "#Using Pearson Correlation\n",
    "plt.figure(figsize=(12,10))\n",
    "cor = result_df.corr()\n",
    "sns.heatmap(cor, annot=True, cmap=plt.cm.Reds)\n",
    "#plt.show()"
   ]
  },
  {
   "cell_type": "code",
   "execution_count": 73,
   "metadata": {},
   "outputs": [
    {
     "data": {
      "text/plain": [
       "C6_D    0.641665\n",
       "Y1      1.000000\n",
       "Name: Y1, dtype: float64"
      ]
     },
     "execution_count": 73,
     "metadata": {},
     "output_type": "execute_result"
    }
   ],
   "source": [
    "#Correlation with output variable Y1\n",
    "cor_target1 = abs(cor[\"Y1\"])\n",
    "#Remove highly correlated features\n",
    "features1 = cor_target1[cor_target1>0.5]\n",
    "features1"
   ]
  },
  {
   "cell_type": "code",
   "execution_count": 74,
   "metadata": {},
   "outputs": [
    {
     "data": {
      "text/plain": [
       "Y2    1.0\n",
       "Name: Y2, dtype: float64"
      ]
     },
     "execution_count": 74,
     "metadata": {},
     "output_type": "execute_result"
    }
   ],
   "source": [
    "#Correlation with output variable Y1\n",
    "cor_target2 = abs(cor[\"Y2\"])\n",
    "#Remove highly correlated features\n",
    "features2 = cor_target2[cor_target2>0.5]\n",
    "features2"
   ]
  },
  {
   "cell_type": "markdown",
   "metadata": {},
   "source": [
    "C6_D is highly correlated for Y1 but not for Y2. Hence, we select all our variables based on Correlation AnalysisWe keep all the variables "
   ]
  },
  {
   "cell_type": "code",
   "execution_count": 75,
   "metadata": {},
   "outputs": [
    {
     "data": {
      "text/plain": [
       "Index(['C1', 'C7', 'C5_D', 'C6_D', 'T1_D', 'T3_D', 'T5_D', 'S1_D', 'S2_D',\n",
       "       'S3_D', 'C2', 'C3_D', 'Class_1.0', 'Class_2.0', 'Class_3.0'],\n",
       "      dtype='object')"
      ]
     },
     "execution_count": 75,
     "metadata": {},
     "output_type": "execute_result"
    }
   ],
   "source": [
    "#Feature Matrix\n",
    "X1 = result_df.drop(columns = ['Y1', 'Y2'])\n",
    "\n",
    "#Target Variables\n",
    "y1 = result_df['Y1']          \n",
    "y2 = result_df['Y2']\n",
    "\n",
    "X1.columns"
   ]
  },
  {
   "cell_type": "markdown",
   "metadata": {},
   "source": [
    "##### FEATURE SELECTION USING RFE"
   ]
  },
  {
   "cell_type": "code",
   "execution_count": 76,
   "metadata": {},
   "outputs": [],
   "source": [
    "# Import ther necessary dependencies\n",
    "from sklearn.feature_selection import RFE\n",
    "from sklearn.linear_model import LogisticRegression"
   ]
  },
  {
   "cell_type": "code",
   "execution_count": 77,
   "metadata": {},
   "outputs": [
    {
     "name": "stdout",
     "output_type": "stream",
     "text": [
      "[False False  True False  True  True False False  True False False False\n",
      "  True  True  True]\n",
      "[9 6 1 5 1 1 8 3 1 4 2 7 1 1 1]\n",
      "Index(['C5_D', 'T1_D', 'T3_D', 'S2_D', 'Class_1.0', 'Class_2.0', 'Class_3.0'], dtype='object')\n"
     ]
    }
   ],
   "source": [
    "cols = list(X1.columns)\n",
    "model = LogisticRegression()\n",
    "#Initializing RFE model\n",
    "rfe = RFE(model, 7)\n",
    "#Transforming data using RFE\n",
    "X_rfe = rfe.fit_transform(X1,y1)  \n",
    "#Fitting the data to model\n",
    "model.fit(X_rfe,y1)\n",
    "print(rfe.support_)\n",
    "print(rfe.ranking_)\n",
    "temp = pd.Series(rfe.support_,index = cols)\n",
    "selected_features_rfe = temp[temp==True].index\n",
    "print(selected_features_rfe)"
   ]
  },
  {
   "cell_type": "code",
   "execution_count": 78,
   "metadata": {},
   "outputs": [
    {
     "name": "stdout",
     "output_type": "stream",
     "text": [
      "[False False False False  True  True False False  True  True  True  True\n",
      "  True  True  True]\n",
      "[3 4 2 5 1 1 6 7 1 1 1 1 1 1 1]\n",
      "Index(['T1_D', 'T3_D', 'S2_D', 'S3_D', 'C2', 'C3_D', 'Class_1.0', 'Class_2.0',\n",
      "       'Class_3.0'],\n",
      "      dtype='object')\n"
     ]
    }
   ],
   "source": [
    "cols = list(X1.columns)\n",
    "model = LogisticRegression()\n",
    "#Initializing RFE model\n",
    "rfe = RFE(model, 9)\n",
    "#Transforming data using RFE\n",
    "X_rfe = rfe.fit_transform(X1,y2)  \n",
    "#Fitting the data to model\n",
    "model.fit(X_rfe,y2)\n",
    "print(rfe.support_)\n",
    "print(rfe.ranking_)\n",
    "temp = pd.Series(rfe.support_,index = cols)\n",
    "selected_features_rfe = temp[temp==True].index\n",
    "print(selected_features_rfe)"
   ]
  },
  {
   "cell_type": "code",
   "execution_count": 79,
   "metadata": {},
   "outputs": [
    {
     "data": {
      "text/plain": [
       "Index(['C1', 'C7', 'C5_D', 'C6_D', 'T1_D', 'T3_D', 'T5_D', 'S1_D', 'S2_D',\n",
       "       'S3_D', 'C2', 'C3_D', 'Class_1.0', 'Class_2.0', 'Class_3.0', 'Y1',\n",
       "       'Y2'],\n",
       "      dtype='object')"
      ]
     },
     "execution_count": 79,
     "metadata": {},
     "output_type": "execute_result"
    }
   ],
   "source": [
    "result_df.columns"
   ]
  },
  {
   "cell_type": "code",
   "execution_count": 80,
   "metadata": {},
   "outputs": [],
   "source": [
    "result_df.to_csv('out.csv', index=False)"
   ]
  },
  {
   "cell_type": "code",
   "execution_count": null,
   "metadata": {},
   "outputs": [],
   "source": []
  }
 ],
 "metadata": {
  "kernelspec": {
   "display_name": "Python 3",
   "language": "python",
   "name": "python3"
  },
  "language_info": {
   "codemirror_mode": {
    "name": "ipython",
    "version": 3
   },
   "file_extension": ".py",
   "mimetype": "text/x-python",
   "name": "python",
   "nbconvert_exporter": "python",
   "pygments_lexer": "ipython3",
   "version": "3.6.5"
  }
 },
 "nbformat": 4,
 "nbformat_minor": 2
}
