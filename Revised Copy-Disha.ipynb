{
 "cells": [
  {
   "cell_type": "markdown",
   "metadata": {},
   "source": [
    "### Import Librabries"
   ]
  },
  {
   "cell_type": "code",
   "execution_count": 30,
   "metadata": {
    "collapsed": false
   },
   "outputs": [],
   "source": [
    "# import required package for data handling\n",
    "import pandas as pd\n",
    "import numpy as np\n",
    "\n",
    "# import required packages for splitting data\n",
    "from sklearn import model_selection\n",
    "from sklearn.model_selection import cross_val_score\n",
    "from sklearn.model_selection import train_test_split\n",
    "\n",
    "# import required packages for evaluating models\n",
    "from sklearn import metrics\n",
    "from sklearn.metrics import confusion_matrix\n",
    "from sklearn.metrics import classification_report\n",
    "from sklearn.metrics import roc_auc_score\n",
    "from sklearn.metrics import accuracy_score\n",
    "from sklearn.metrics import precision_recall_fscore_support\n",
    "\n",
    "# import `logistic regression` model\n",
    "from sklearn.linear_model import LogisticRegression\n",
    "\n",
    "import seaborn as sns\n",
    "import matplotlib.pyplot as plt"
   ]
  },
  {
   "cell_type": "markdown",
   "metadata": {},
   "source": [
    "### Load the source data"
   ]
  },
  {
   "cell_type": "code",
   "execution_count": 31,
   "metadata": {
    "collapsed": false
   },
   "outputs": [
    {
     "data": {
      "text/plain": [
       "I1          object\n",
       "I2          object\n",
       "I3          object\n",
       "P(IPO)     float64\n",
       "P(H)       float64\n",
       "P(L)       float64\n",
       "P(1Day)    float64\n",
       "C1         float64\n",
       "C2         float64\n",
       "C3         float64\n",
       "C4         float64\n",
       "C5         float64\n",
       "C6         float64\n",
       "C7         float64\n",
       "T1         float64\n",
       "T2         float64\n",
       "T3         float64\n",
       "T4         float64\n",
       "T5         float64\n",
       "S1         float64\n",
       "S2         float64\n",
       "S3         float64\n",
       "dtype: object"
      ]
     },
     "execution_count": 31,
     "metadata": {},
     "output_type": "execute_result"
    }
   ],
   "source": [
    "# Create dataframe and fill missing values\n",
    "df = pd.read_csv('Competition1_raw_data.csv', header=0, na_values=['-'])\n",
    "df.head(5)\n",
    "df.dtypes"
   ]
  },
  {
   "cell_type": "markdown",
   "metadata": {},
   "source": [
    "### Analyze the Source Data"
   ]
  },
  {
   "cell_type": "code",
   "execution_count": 32,
   "metadata": {},
   "outputs": [
    {
     "data": {
      "text/plain": [
       "<matplotlib.axes._subplots.AxesSubplot at 0x7f59bbdc4470>"
      ]
     },
     "execution_count": 32,
     "metadata": {},
     "output_type": "execute_result"
    },
    {
     "data": {
      "image/png": "[encoded data removed]",
      "text/plain": [
       "<Figure size 432x288 with 1 Axes>"
      ]
     },
     "metadata": {},
     "output_type": "display_data"
    }
   ],
   "source": [
    "df['P(IPO)'].plot.hist()"
   ]
  },
  {
   "cell_type": "markdown",
   "metadata": {},
   "source": [
    "### Data Cleaning"
   ]
  },
  {
   "cell_type": "code",
   "execution_count": 33,
   "metadata": {},
   "outputs": [
    {
     "name": "stdout",
     "output_type": "stream",
     "text": [
      "<class 'pandas.core.frame.DataFrame'>\n",
      "RangeIndex: 682 entries, 0 to 681\n",
      "Data columns (total 22 columns):\n",
      "I1         682 non-null object\n",
      "I2         682 non-null object\n",
      "I3         674 non-null object\n",
      "P(IPO)     677 non-null float64\n",
      "P(H)       672 non-null float64\n",
      "P(L)       672 non-null float64\n",
      "P(1Day)    660 non-null float64\n",
      "C1         660 non-null float64\n",
      "C2         660 non-null float64\n",
      "C3         646 non-null float64\n",
      "C4         660 non-null float64\n",
      "C5         676 non-null float64\n",
      "C6         676 non-null float64\n",
      "C7         610 non-null float64\n",
      "T1         681 non-null float64\n",
      "T2         681 non-null float64\n",
      "T3         681 non-null float64\n",
      "T4         681 non-null float64\n",
      "T5         681 non-null float64\n",
      "S1         681 non-null float64\n",
      "S2         681 non-null float64\n",
      "S3         681 non-null float64\n",
      "dtypes: float64(19), object(3)\n",
      "memory usage: 117.3+ KB\n"
     ]
    }
   ],
   "source": [
    "# Calculating the number of nulls in each column.\n",
    "# df.isnull().sum()\n",
    "df.info()"
   ]
  },
  {
   "cell_type": "code",
   "execution_count": 34,
   "metadata": {},
   "outputs": [],
   "source": [
    "# Add Positive EPS dummy column C3_D with dummy variable set to 1 if C3 is positive, otherwise 0. \n",
    "df['C3_D'] = pd.get_dummies(df.C3 > 0, drop_first=True, dtype=bool)\n",
    "\n",
    "# Add Share Overhang column C5_D.\n",
    "df['C5_D']=df['C5']/df['C6']\n",
    "\n",
    "# Add Up Revision column C6_D.\n",
    "df['P(mid)'] = ((df['P(H)']+df['P(L)'])/2)\n",
    "df['C6_D'] = ((df['P(IPO)']-df['P(mid)'])/df['P(mid)']*0.01).where((df['P(IPO)'] > df['P(mid)']), 0)"
   ]
  },
  {
   "cell_type": "code",
   "execution_count": 35,
   "metadata": {},
   "outputs": [],
   "source": [
    "# Create column T1_D with Percent of long sentences\n",
    "df['T1_D']=df['T4']/df['T1']\n",
    "# Create column T3_D with Percent of real words\n",
    "df['T3_D']=df['T3']/df['T2']\n",
    "# Create column T5_D with Percent of long words\n",
    "df['T5_D']=df['T5']/df['T2']\n",
    "# Create column S1_D with Percent of Positive words\n",
    "df['S1_D']=df['S1']/df['T2']\n",
    "# Create column S2_D with Percent of real words\n",
    "df['S2_D']=df['S2']/df['T2']\n",
    "# Create column S3_D with Percent of real words\n",
    "df['S3_D']=df['S3']/df['T2']"
   ]
  },
  {
   "cell_type": "markdown",
   "metadata": {},
   "source": [
    "##### Adding Target Variables"
   ]
  },
  {
   "cell_type": "code",
   "execution_count": 36,
   "metadata": {},
   "outputs": [],
   "source": [
    "# Add Pre-IPO Price Revision column Y1.\n",
    "df['Y1'] = np.where(df['P(IPO)'] < ((df['P(H)'] + df['P(L)'])/2), '1', '0')\n",
    "df['Y1'] = df['Y1'].astype('int')\n",
    "\n",
    "#Add Post-IPO Initial Return column Y2.\n",
    "df['Y2'] = np.where(df['P(IPO)'] < df['P(1Day)'], '1', '0')\n",
    "df['Y2'] = df['Y2'].astype('int')\n",
    "\n",
    "#df.info()\n",
    "#df.head(5)"
   ]
  },
  {
   "cell_type": "code",
   "execution_count": 37,
   "metadata": {
    "collapsed": false
   },
   "outputs": [],
   "source": [
    "# Change the data types \n",
    "df['Y1'] = df['Y1'].astype('bool')\n",
    "df['Y2'] = df['Y2'].astype('bool')\n",
    "df['C2'] = df['C2'].astype('bool')\n",
    "#df.info()"
   ]
  },
  {
   "cell_type": "code",
   "execution_count": 38,
   "metadata": {},
   "outputs": [
    {
     "data": {
      "text/html": [
       "<div>\n",
       "<style scoped>\n",
       "    .dataframe tbody tr th:only-of-type {\n",
       "        vertical-align: middle;\n",
       "    }\n",
       "\n",
       "    .dataframe tbody tr th {\n",
       "        vertical-align: top;\n",
       "    }\n",
       "\n",
       "    .dataframe thead th {\n",
       "        text-align: right;\n",
       "    }\n",
       "</style>\n",
       "<table border=\"1\" class=\"dataframe\">\n",
       "  <thead>\n",
       "    <tr style=\"text-align: right;\">\n",
       "      <th></th>\n",
       "      <th>I1</th>\n",
       "      <th>I2</th>\n",
       "      <th>I3</th>\n",
       "      <th>C1</th>\n",
       "      <th>C2</th>\n",
       "      <th>C4</th>\n",
       "      <th>C7</th>\n",
       "      <th>C3_D</th>\n",
       "      <th>C5_D</th>\n",
       "      <th>C6_D</th>\n",
       "      <th>T1_D</th>\n",
       "      <th>T3_D</th>\n",
       "      <th>T5_D</th>\n",
       "      <th>S1_D</th>\n",
       "      <th>S2_D</th>\n",
       "      <th>S3_D</th>\n",
       "      <th>Y1</th>\n",
       "      <th>Y2</th>\n",
       "    </tr>\n",
       "  </thead>\n",
       "  <tbody>\n",
       "    <tr>\n",
       "      <th>0</th>\n",
       "      <td>AATI</td>\n",
       "      <td>ADVANCED ANALOGIC TECHNOLOGIES INC</td>\n",
       "      <td>3674</td>\n",
       "      <td>122.0</td>\n",
       "      <td>True</td>\n",
       "      <td>0.029074</td>\n",
       "      <td>51.345</td>\n",
       "      <td>True</td>\n",
       "      <td>3.864345</td>\n",
       "      <td>0.001111</td>\n",
       "      <td>0.640426</td>\n",
       "      <td>0.908876</td>\n",
       "      <td>0.054250</td>\n",
       "      <td>0.004875</td>\n",
       "      <td>0.009199</td>\n",
       "      <td>0.010929</td>\n",
       "      <td>False</td>\n",
       "      <td>True</td>\n",
       "    </tr>\n",
       "    <tr>\n",
       "      <th>1</th>\n",
       "      <td>ABPI</td>\n",
       "      <td>ACCENTIA BIOPHARMACEUTICALS INC</td>\n",
       "      <td>2834</td>\n",
       "      <td>259.0</td>\n",
       "      <td>False</td>\n",
       "      <td>-0.013352</td>\n",
       "      <td>25.936</td>\n",
       "      <td>False</td>\n",
       "      <td>12.028832</td>\n",
       "      <td>0.000000</td>\n",
       "      <td>0.644753</td>\n",
       "      <td>0.898724</td>\n",
       "      <td>0.051395</td>\n",
       "      <td>0.003258</td>\n",
       "      <td>0.011105</td>\n",
       "      <td>0.010876</td>\n",
       "      <td>True</td>\n",
       "      <td>False</td>\n",
       "    </tr>\n",
       "    <tr>\n",
       "      <th>2</th>\n",
       "      <td>ACAD</td>\n",
       "      <td>ACADIA PHARMACEUTICALS INC</td>\n",
       "      <td>2834</td>\n",
       "      <td>90.0</td>\n",
       "      <td>True</td>\n",
       "      <td>0.020715</td>\n",
       "      <td>7.378</td>\n",
       "      <td>False</td>\n",
       "      <td>3.369134</td>\n",
       "      <td>0.000000</td>\n",
       "      <td>0.636816</td>\n",
       "      <td>0.909350</td>\n",
       "      <td>0.061764</td>\n",
       "      <td>0.011593</td>\n",
       "      <td>0.006271</td>\n",
       "      <td>0.011403</td>\n",
       "      <td>True</td>\n",
       "      <td>False</td>\n",
       "    </tr>\n",
       "    <tr>\n",
       "      <th>3</th>\n",
       "      <td>ACHN</td>\n",
       "      <td>ACHILLION PHARMACEUTICALS INC</td>\n",
       "      <td>2834</td>\n",
       "      <td>209.0</td>\n",
       "      <td>True</td>\n",
       "      <td>0.020023</td>\n",
       "      <td>8.526</td>\n",
       "      <td>False</td>\n",
       "      <td>3.299697</td>\n",
       "      <td>0.000000</td>\n",
       "      <td>0.539634</td>\n",
       "      <td>0.917060</td>\n",
       "      <td>0.061630</td>\n",
       "      <td>0.009686</td>\n",
       "      <td>0.007144</td>\n",
       "      <td>0.013319</td>\n",
       "      <td>True</td>\n",
       "      <td>True</td>\n",
       "    </tr>\n",
       "    <tr>\n",
       "      <th>4</th>\n",
       "      <td>ACLI</td>\n",
       "      <td>AMERICAN COMMERCIAL LINES INC.</td>\n",
       "      <td>4492</td>\n",
       "      <td>80.0</td>\n",
       "      <td>True</td>\n",
       "      <td>-0.034895</td>\n",
       "      <td>632.298</td>\n",
       "      <td>True</td>\n",
       "      <td>3.726269</td>\n",
       "      <td>0.000500</td>\n",
       "      <td>0.587413</td>\n",
       "      <td>0.888469</td>\n",
       "      <td>0.048550</td>\n",
       "      <td>0.004518</td>\n",
       "      <td>0.010047</td>\n",
       "      <td>0.011261</td>\n",
       "      <td>False</td>\n",
       "      <td>True</td>\n",
       "    </tr>\n",
       "  </tbody>\n",
       "</table>\n",
       "</div>"
      ],
      "text/plain": [
       "     I1                                  I2    I3     C1     C2        C4  \\\n",
       "0  AATI  ADVANCED ANALOGIC TECHNOLOGIES INC  3674  122.0   True  0.029074   \n",
       "1  ABPI     ACCENTIA BIOPHARMACEUTICALS INC  2834  259.0  False -0.013352   \n",
       "2  ACAD          ACADIA PHARMACEUTICALS INC  2834   90.0   True  0.020715   \n",
       "3  ACHN       ACHILLION PHARMACEUTICALS INC  2834  209.0   True  0.020023   \n",
       "4  ACLI     AMERICAN COMMERCIAL LINES INC.   4492   80.0   True -0.034895   \n",
       "\n",
       "        C7   C3_D       C5_D      C6_D      T1_D      T3_D      T5_D  \\\n",
       "0   51.345   True   3.864345  0.001111  0.640426  0.908876  0.054250   \n",
       "1   25.936  False  12.028832  0.000000  0.644753  0.898724  0.051395   \n",
       "2    7.378  False   3.369134  0.000000  0.636816  0.909350  0.061764   \n",
       "3    8.526  False   3.299697  0.000000  0.539634  0.917060  0.061630   \n",
       "4  632.298   True   3.726269  0.000500  0.587413  0.888469  0.048550   \n",
       "\n",
       "       S1_D      S2_D      S3_D     Y1     Y2  \n",
       "0  0.004875  0.009199  0.010929  False   True  \n",
       "1  0.003258  0.011105  0.010876   True  False  \n",
       "2  0.011593  0.006271  0.011403   True  False  \n",
       "3  0.009686  0.007144  0.013319   True   True  \n",
       "4  0.004518  0.010047  0.011261  False   True  "
      ]
     },
     "execution_count": 38,
     "metadata": {},
     "output_type": "execute_result"
    }
   ],
   "source": [
    "# Drop columns and view head\n",
    "df.drop(['P(IPO)', 'P(H)', 'P(L)', 'P(1Day)', 'P(mid)', 'C3', 'C5', 'C6', 'T1', 'T2', 'T3', 'T4', 'T5', 'S1', 'S2', 'S3'], axis=1, inplace=True)\n",
    "df.head()"
   ]
  },
  {
   "cell_type": "markdown",
   "metadata": {},
   "source": [
    "Check the shape of the data."
   ]
  },
  {
   "cell_type": "code",
   "execution_count": 39,
   "metadata": {},
   "outputs": [
    {
     "name": "stdout",
     "output_type": "stream",
     "text": [
      "<class 'pandas.core.frame.DataFrame'>\n",
      "RangeIndex: 682 entries, 0 to 681\n",
      "Data columns (total 18 columns):\n",
      "I1      682 non-null object\n",
      "I2      682 non-null object\n",
      "I3      674 non-null object\n",
      "C1      660 non-null float64\n",
      "C2      682 non-null bool\n",
      "C4      660 non-null float64\n",
      "C7      610 non-null float64\n",
      "C3_D    682 non-null bool\n",
      "C5_D    676 non-null float64\n",
      "C6_D    682 non-null float64\n",
      "T1_D    681 non-null float64\n",
      "T3_D    679 non-null float64\n",
      "T5_D    679 non-null float64\n",
      "S1_D    679 non-null float64\n",
      "S2_D    679 non-null float64\n",
      "S3_D    679 non-null float64\n",
      "Y1      682 non-null bool\n",
      "Y2      682 non-null bool\n",
      "dtypes: bool(4), float64(11), object(3)\n",
      "memory usage: 77.3+ KB\n"
     ]
    }
   ],
   "source": [
    "df.info()"
   ]
  },
  {
   "cell_type": "markdown",
   "metadata": {},
   "source": [
    "#### Imputation"
   ]
  },
  {
   "cell_type": "code",
   "execution_count": 40,
   "metadata": {},
   "outputs": [],
   "source": [
    "pd.options.mode.use_inf_as_na = True"
   ]
  },
  {
   "cell_type": "code",
   "execution_count": 41,
   "metadata": {},
   "outputs": [
    {
     "name": "stdout",
     "output_type": "stream",
     "text": [
      "                C1          C4            C7        C5_D        C6_D  \\\n",
      "count   682.000000  682.000000    682.000000  682.000000  682.000000   \n",
      "mean    148.350440    0.007342    458.587321    4.625759    0.000523   \n",
      "std     150.518513    0.032777   1563.531760    6.245823    0.001074   \n",
      "min      10.000000   -0.162352      0.074000    0.283223    0.000000   \n",
      "25%      85.000000   -0.013352     41.511500    2.853439    0.000000   \n",
      "50%     107.000000    0.009125    103.833000    3.753607    0.000000   \n",
      "75%     152.750000    0.030941    289.758000    4.865080    0.000714   \n",
      "max    2087.000000    0.092896  30683.000000   99.787255    0.010000   \n",
      "\n",
      "             T1_D        T3_D        T5_D        S1_D        S2_D        S3_D  \n",
      "count  682.000000  682.000000  682.000000  682.000000  682.000000  682.000000  \n",
      "mean     0.628062    0.913839    0.080496    0.005488    0.009151    0.011833  \n",
      "std      0.083532    0.626453    0.744773    0.004787    0.004299    0.008962  \n",
      "min      0.000000    0.000000   -0.000089   -0.000093    0.002152    0.005125  \n",
      "25%      0.579954    0.883498    0.047297    0.004150    0.007031    0.009570  \n",
      "50%      0.629032    0.897042    0.051863    0.005050    0.008592    0.011299  \n",
      "75%      0.674852    0.909664    0.056351    0.006249    0.010503    0.012855  \n",
      "max      1.443089   17.165085   19.500949    0.121442    0.091082    0.233397  \n"
     ]
    }
   ],
   "source": [
    "# Replace the missing data with mean/median/mode\n",
    "#df[df.replace([np.inf, -np.inf], np.nan).notnull().all(axis=1)]\n",
    "\n",
    "df['C1'].fillna(df['C1'].median(), inplace = True)\n",
    "df['I3'].fillna(df['I3'].mode(), inplace = True)\n",
    "df['C2'].fillna(df['C2'].median(), inplace = True)\n",
    "df['C4'].fillna(df['C4'].median(), inplace = True)\n",
    "df['C7'].fillna(df['C7'].median(), inplace = True)\n",
    "df['C5_D'].fillna(df['C5_D'].median(), inplace = True)\n",
    "df['T1_D'].fillna(df['T1_D'].median(), inplace = True)\n",
    "df['T3_D'].fillna(df['T3_D'].median(), inplace = True)\n",
    "df['T5_D'].fillna(df['T5_D'].median(), inplace = True)\n",
    "df['S1_D'].fillna(df['S1_D'].median(), inplace = True)\n",
    "df['S2_D'].fillna(df['S2_D'].median(), inplace = True)\n",
    "df['S3_D'].fillna(df['S3_D'].median(), inplace = True)\n",
    "df.isnull().sum()\n",
    "print(df.describe(include= 'float64'))"
   ]
  },
  {
   "cell_type": "code",
   "execution_count": 42,
   "metadata": {},
   "outputs": [
    {
     "name": "stdout",
     "output_type": "stream",
     "text": [
      "<class 'pandas.core.frame.DataFrame'>\n",
      "RangeIndex: 682 entries, 0 to 681\n",
      "Data columns (total 18 columns):\n",
      "I1      682 non-null object\n",
      "I2      682 non-null object\n",
      "I3      674 non-null object\n",
      "C1      682 non-null float64\n",
      "C2      682 non-null bool\n",
      "C4      682 non-null float64\n",
      "C7      682 non-null float64\n",
      "C3_D    682 non-null bool\n",
      "C5_D    682 non-null float64\n",
      "C6_D    682 non-null float64\n",
      "T1_D    682 non-null float64\n",
      "T3_D    682 non-null float64\n",
      "T5_D    682 non-null float64\n",
      "S1_D    682 non-null float64\n",
      "S2_D    682 non-null float64\n",
      "S3_D    682 non-null float64\n",
      "Y1      682 non-null bool\n",
      "Y2      682 non-null bool\n",
      "dtypes: bool(4), float64(11), object(3)\n",
      "memory usage: 77.3+ KB\n"
     ]
    }
   ],
   "source": [
    "df.info()"
   ]
  },
  {
   "cell_type": "code",
   "execution_count": 43,
   "metadata": {},
   "outputs": [
    {
     "name": "stderr",
     "output_type": "stream",
     "text": [
      "/opt/tljh/user/lib/python3.6/site-packages/ipykernel_launcher.py:6: SettingWithCopyWarning: \n",
      "A value is trying to be set on a copy of a slice from a DataFrame\n",
      "\n",
      "See the caveats in the documentation: http://pandas.pydata.org/pandas-docs/stable/indexing.html#indexing-view-versus-copy\n",
      "  \n",
      "/opt/tljh/user/lib/python3.6/site-packages/ipykernel_launcher.py:7: SettingWithCopyWarning: \n",
      "A value is trying to be set on a copy of a slice from a DataFrame\n",
      "\n",
      "See the caveats in the documentation: http://pandas.pydata.org/pandas-docs/stable/indexing.html#indexing-view-versus-copy\n",
      "  import sys\n"
     ]
    },
    {
     "data": {
      "text/plain": [
       "0     3674\n",
       "1     2834\n",
       "2     2834\n",
       "3     2834\n",
       "4     4492\n",
       "5     7379\n",
       "6     2836\n",
       "7     2834\n",
       "8     7372\n",
       "9     3714\n",
       "10       0\n",
       "11    2854\n",
       "Name: I3, dtype: object"
      ]
     },
     "execution_count": 43,
     "metadata": {},
     "output_type": "execute_result"
    }
   ],
   "source": [
    "df['I3']=df['I3'].fillna(' ')\n",
    "df_I3 = df.I3\n",
    "df_I3.head()\n",
    "#df_I3 = df_I3.astype('str')\n",
    "# check the value in column contains ',', if so then replace the whole value as '0'\n",
    "df_I3[df.I3.str.contains(\",\")] = '0'\n",
    "df_I3[df.I3.str.contains(\" \")] = '0'\n",
    "# You should change the dtype back to 'float' or 'int' to match the original data\n",
    "# if the original dtype is object then do NOT do this!!!\n",
    "#df_I3 = df_I3.astype('float')\n",
    "# look at the first 5 values to see if they are changed\n",
    "df_I3.head(12)"
   ]
  },
  {
   "cell_type": "code",
   "execution_count": 44,
   "metadata": {},
   "outputs": [
    {
     "name": "stdout",
     "output_type": "stream",
     "text": [
      "<class 'pandas.core.frame.DataFrame'>\n",
      "RangeIndex: 682 entries, 0 to 681\n",
      "Data columns (total 18 columns):\n",
      "I1      682 non-null object\n",
      "I2      682 non-null object\n",
      "I3      682 non-null object\n",
      "C1      682 non-null float64\n",
      "C2      682 non-null bool\n",
      "C4      682 non-null float64\n",
      "C7      682 non-null float64\n",
      "C3_D    682 non-null bool\n",
      "C5_D    682 non-null float64\n",
      "C6_D    682 non-null float64\n",
      "T1_D    682 non-null float64\n",
      "T3_D    682 non-null float64\n",
      "T5_D    682 non-null float64\n",
      "S1_D    682 non-null float64\n",
      "S2_D    682 non-null float64\n",
      "S3_D    682 non-null float64\n",
      "Y1      682 non-null bool\n",
      "Y2      682 non-null bool\n",
      "dtypes: bool(4), float64(11), object(3)\n",
      "memory usage: 77.3+ KB\n"
     ]
    }
   ],
   "source": [
    "df.info()"
   ]
  },
  {
   "cell_type": "markdown",
   "metadata": {},
   "source": [
    "#### Normalization"
   ]
  },
  {
   "cell_type": "code",
   "execution_count": 45,
   "metadata": {},
   "outputs": [
    {
     "name": "stdout",
     "output_type": "stream",
     "text": [
      "Index(['I1', 'I2', 'I3', 'C1', 'C2', 'C4', 'C7', 'C3_D', 'C5_D', 'C6_D',\n",
      "       'T1_D', 'T3_D', 'T5_D', 'S1_D', 'S2_D', 'S3_D', 'Y1', 'Y2'],\n",
      "      dtype='object')\n"
     ]
    }
   ],
   "source": [
    "#review all columns to later identify needed ones for normalization based on data dictionary and data type\n",
    "print(df.columns)\n",
    "cols= df.columns"
   ]
  },
  {
   "cell_type": "code",
   "execution_count": 46,
   "metadata": {},
   "outputs": [
    {
     "name": "stdout",
     "output_type": "stream",
     "text": [
      "                C1          C4            C7        C5_D        C6_D  \\\n",
      "count   682.000000  682.000000    682.000000  682.000000  682.000000   \n",
      "mean    148.350440    0.007342    458.587321    4.625759    0.000523   \n",
      "std     150.518513    0.032777   1563.531760    6.245823    0.001074   \n",
      "min      10.000000   -0.162352      0.074000    0.283223    0.000000   \n",
      "25%      85.000000   -0.013352     41.511500    2.853439    0.000000   \n",
      "50%     107.000000    0.009125    103.833000    3.753607    0.000000   \n",
      "75%     152.750000    0.030941    289.758000    4.865080    0.000714   \n",
      "max    2087.000000    0.092896  30683.000000   99.787255    0.010000   \n",
      "\n",
      "             T1_D        T3_D        T5_D        S1_D        S2_D        S3_D  \n",
      "count  682.000000  682.000000  682.000000  682.000000  682.000000  682.000000  \n",
      "mean     0.628062    0.913839    0.080496    0.005488    0.009151    0.011833  \n",
      "std      0.083532    0.626453    0.744773    0.004787    0.004299    0.008962  \n",
      "min      0.000000    0.000000   -0.000089   -0.000093    0.002152    0.005125  \n",
      "25%      0.579954    0.883498    0.047297    0.004150    0.007031    0.009570  \n",
      "50%      0.629032    0.897042    0.051863    0.005050    0.008592    0.011299  \n",
      "75%      0.674852    0.909664    0.056351    0.006249    0.010503    0.012855  \n",
      "max      1.443089   17.165085   19.500949    0.121442    0.091082    0.233397  \n"
     ]
    }
   ],
   "source": [
    "# checking the continuous columns/float64 that needs to be normalized \n",
    "print(df.describe(include= 'float64'))\n",
    "\n",
    "# Creating new variable (cf) for continuous datatype\n",
    "cf= df.select_dtypes(include=['float64'])"
   ]
  },
  {
   "cell_type": "code",
   "execution_count": 47,
   "metadata": {},
   "outputs": [
    {
     "data": {
      "text/plain": [
       "array([[5.39239287e-02, 7.49962414e-01, 1.67099448e-03, ...,\n",
       "        4.08729848e-02, 7.92361573e-02, 2.54230680e-02],\n",
       "       [1.19884449e-01, 5.83747768e-01, 8.42879196e-04, ...,\n",
       "        2.75721222e-02, 1.00670704e-01, 2.51909695e-02],\n",
       "       [3.85170920e-02, 7.17212778e-01, 2.38047701e-04, ...,\n",
       "        9.61488459e-02, 4.63171845e-02, 2.74994403e-02],\n",
       "       ...,\n",
       "       [4.91092922e-02, 7.55255452e-01, 1.80416301e-03, ...,\n",
       "        3.52484773e-02, 7.74926209e-02, 2.10316883e-02],\n",
       "       [3.27395282e-02, 7.62538533e-01, 3.83871473e-03, ...,\n",
       "        5.64929057e-02, 3.60905122e-02, 3.93617857e-02],\n",
       "       [1.30476649e-01, 7.32775505e-01, 4.78930856e-02, ...,\n",
       "        6.70971325e-02, 7.51293248e-02, 3.69096935e-02]])"
      ]
     },
     "execution_count": 47,
     "metadata": {},
     "output_type": "execute_result"
    }
   ],
   "source": [
    "from sklearn.preprocessing import MinMaxScaler\n",
    "from sklearn.pipeline import Pipeline\n",
    "\n",
    "#x = cf.values #returns a numpy array\n",
    "scaler= MinMaxScaler()\n",
    "scaler.fit_transform(cf)"
   ]
  },
  {
   "cell_type": "markdown",
   "metadata": {},
   "source": [
    "#### Standardization"
   ]
  },
  {
   "cell_type": "code",
   "execution_count": 60,
   "metadata": {},
   "outputs": [
    {
     "data": {
      "text/plain": [
       "array([[-0.17519293,  0.66353865, -0.26065426, ..., -0.12825638,\n",
       "         0.01104092, -0.10095086],\n",
       "       [ 0.73566214, -0.63180489, -0.27691722, ..., -0.4661801 ,\n",
       "         0.45473085, -0.10686693],\n",
       "       [-0.3879474 ,  0.40831427, -0.28879521, ...,  1.27609051,\n",
       "        -0.67037386, -0.04802519],\n",
       "       ...,\n",
       "       [-0.2416787 ,  0.70478834, -0.25803903, ..., -0.27115346,\n",
       "        -0.02504986, -0.21288489],\n",
       "       [-0.46773033,  0.76154682, -0.21808345, ...,  0.2685857 ,\n",
       "        -0.88206351,  0.25433995],\n",
       "       [ 0.88193083,  0.52959767,  0.64707908, ...,  0.53799829,\n",
       "        -0.07396952,  0.19183737]])"
      ]
     },
     "execution_count": 60,
     "metadata": {},
     "output_type": "execute_result"
    }
   ],
   "source": [
    "#Standardization\n",
    "import scipy\n",
    "scipy.stats.zscore(cf, axis=0, ddof=0)"
   ]
  },
  {
   "cell_type": "code",
   "execution_count": 61,
   "metadata": {},
   "outputs": [
    {
     "data": {
      "image/png": "[encoded data removed]",
      "text/plain": [
       "<Figure size 432x288 with 12 Axes>"
      ]
     },
     "metadata": {},
     "output_type": "display_data"
    }
   ],
   "source": [
    "hist = cf.hist()"
   ]
  },
  {
   "cell_type": "code",
   "execution_count": 62,
   "metadata": {},
   "outputs": [],
   "source": [
    "df['I3'] = df.I3.astype('float')"
   ]
  },
  {
   "cell_type": "code",
   "execution_count": 63,
   "metadata": {},
   "outputs": [
    {
     "data": {
      "text/html": [
       "<div>\n",
       "<style scoped>\n",
       "    .dataframe tbody tr th:only-of-type {\n",
       "        vertical-align: middle;\n",
       "    }\n",
       "\n",
       "    .dataframe tbody tr th {\n",
       "        vertical-align: top;\n",
       "    }\n",
       "\n",
       "    .dataframe thead th {\n",
       "        text-align: right;\n",
       "    }\n",
       "</style>\n",
       "<table border=\"1\" class=\"dataframe\">\n",
       "  <thead>\n",
       "    <tr style=\"text-align: right;\">\n",
       "      <th></th>\n",
       "      <th>I1</th>\n",
       "      <th>I2</th>\n",
       "      <th>I3</th>\n",
       "      <th>C1</th>\n",
       "      <th>C2</th>\n",
       "      <th>C4</th>\n",
       "      <th>C7</th>\n",
       "      <th>C3_D</th>\n",
       "      <th>C5_D</th>\n",
       "      <th>C6_D</th>\n",
       "      <th>...</th>\n",
       "      <th>S1_D</th>\n",
       "      <th>S2_D</th>\n",
       "      <th>S3_D</th>\n",
       "      <th>Y1</th>\n",
       "      <th>Y2</th>\n",
       "      <th>Class_1</th>\n",
       "      <th>Class_2</th>\n",
       "      <th>Class_3</th>\n",
       "      <th>Class_4</th>\n",
       "      <th>Class_4</th>\n",
       "    </tr>\n",
       "  </thead>\n",
       "  <tbody>\n",
       "    <tr>\n",
       "      <th>0</th>\n",
       "      <td>AATI</td>\n",
       "      <td>ADVANCED ANALOGIC TECHNOLOGIES INC</td>\n",
       "      <td>4</td>\n",
       "      <td>122.0</td>\n",
       "      <td>True</td>\n",
       "      <td>0.029074</td>\n",
       "      <td>51.345</td>\n",
       "      <td>True</td>\n",
       "      <td>3.864345</td>\n",
       "      <td>0.001111</td>\n",
       "      <td>...</td>\n",
       "      <td>0.004875</td>\n",
       "      <td>0.009199</td>\n",
       "      <td>0.010929</td>\n",
       "      <td>False</td>\n",
       "      <td>True</td>\n",
       "      <td>1</td>\n",
       "      <td>0</td>\n",
       "      <td>0</td>\n",
       "      <td>0</td>\n",
       "      <td>1</td>\n",
       "    </tr>\n",
       "    <tr>\n",
       "      <th>1</th>\n",
       "      <td>ABPI</td>\n",
       "      <td>ACCENTIA BIOPHARMACEUTICALS INC</td>\n",
       "      <td>4</td>\n",
       "      <td>259.0</td>\n",
       "      <td>False</td>\n",
       "      <td>-0.013352</td>\n",
       "      <td>25.936</td>\n",
       "      <td>False</td>\n",
       "      <td>12.028832</td>\n",
       "      <td>0.000000</td>\n",
       "      <td>...</td>\n",
       "      <td>0.003258</td>\n",
       "      <td>0.011105</td>\n",
       "      <td>0.010876</td>\n",
       "      <td>True</td>\n",
       "      <td>False</td>\n",
       "      <td>1</td>\n",
       "      <td>0</td>\n",
       "      <td>0</td>\n",
       "      <td>0</td>\n",
       "      <td>1</td>\n",
       "    </tr>\n",
       "    <tr>\n",
       "      <th>2</th>\n",
       "      <td>ACAD</td>\n",
       "      <td>ACADIA PHARMACEUTICALS INC</td>\n",
       "      <td>4</td>\n",
       "      <td>90.0</td>\n",
       "      <td>True</td>\n",
       "      <td>0.020715</td>\n",
       "      <td>7.378</td>\n",
       "      <td>False</td>\n",
       "      <td>3.369134</td>\n",
       "      <td>0.000000</td>\n",
       "      <td>...</td>\n",
       "      <td>0.011593</td>\n",
       "      <td>0.006271</td>\n",
       "      <td>0.011403</td>\n",
       "      <td>True</td>\n",
       "      <td>False</td>\n",
       "      <td>1</td>\n",
       "      <td>0</td>\n",
       "      <td>0</td>\n",
       "      <td>0</td>\n",
       "      <td>1</td>\n",
       "    </tr>\n",
       "    <tr>\n",
       "      <th>3</th>\n",
       "      <td>ACHN</td>\n",
       "      <td>ACHILLION PHARMACEUTICALS INC</td>\n",
       "      <td>4</td>\n",
       "      <td>209.0</td>\n",
       "      <td>True</td>\n",
       "      <td>0.020023</td>\n",
       "      <td>8.526</td>\n",
       "      <td>False</td>\n",
       "      <td>3.299697</td>\n",
       "      <td>0.000000</td>\n",
       "      <td>...</td>\n",
       "      <td>0.009686</td>\n",
       "      <td>0.007144</td>\n",
       "      <td>0.013319</td>\n",
       "      <td>True</td>\n",
       "      <td>True</td>\n",
       "      <td>1</td>\n",
       "      <td>0</td>\n",
       "      <td>0</td>\n",
       "      <td>0</td>\n",
       "      <td>1</td>\n",
       "    </tr>\n",
       "    <tr>\n",
       "      <th>4</th>\n",
       "      <td>ACLI</td>\n",
       "      <td>AMERICAN COMMERCIAL LINES INC.</td>\n",
       "      <td>4</td>\n",
       "      <td>80.0</td>\n",
       "      <td>True</td>\n",
       "      <td>-0.034895</td>\n",
       "      <td>632.298</td>\n",
       "      <td>True</td>\n",
       "      <td>3.726269</td>\n",
       "      <td>0.000500</td>\n",
       "      <td>...</td>\n",
       "      <td>0.004518</td>\n",
       "      <td>0.010047</td>\n",
       "      <td>0.011261</td>\n",
       "      <td>False</td>\n",
       "      <td>True</td>\n",
       "      <td>0</td>\n",
       "      <td>1</td>\n",
       "      <td>0</td>\n",
       "      <td>0</td>\n",
       "      <td>1</td>\n",
       "    </tr>\n",
       "  </tbody>\n",
       "</table>\n",
       "<p>5 rows × 23 columns</p>\n",
       "</div>"
      ],
      "text/plain": [
       "     I1                                  I2  I3     C1     C2        C4  \\\n",
       "0  AATI  ADVANCED ANALOGIC TECHNOLOGIES INC   4  122.0   True  0.029074   \n",
       "1  ABPI     ACCENTIA BIOPHARMACEUTICALS INC   4  259.0  False -0.013352   \n",
       "2  ACAD          ACADIA PHARMACEUTICALS INC   4   90.0   True  0.020715   \n",
       "3  ACHN       ACHILLION PHARMACEUTICALS INC   4  209.0   True  0.020023   \n",
       "4  ACLI     AMERICAN COMMERCIAL LINES INC.    4   80.0   True -0.034895   \n",
       "\n",
       "        C7   C3_D       C5_D      C6_D   ...         S1_D      S2_D      S3_D  \\\n",
       "0   51.345   True   3.864345  0.001111   ...     0.004875  0.009199  0.010929   \n",
       "1   25.936  False  12.028832  0.000000   ...     0.003258  0.011105  0.010876   \n",
       "2    7.378  False   3.369134  0.000000   ...     0.011593  0.006271  0.011403   \n",
       "3    8.526  False   3.299697  0.000000   ...     0.009686  0.007144  0.013319   \n",
       "4  632.298   True   3.726269  0.000500   ...     0.004518  0.010047  0.011261   \n",
       "\n",
       "      Y1     Y2  Class_1  Class_2  Class_3  Class_4  Class_4  \n",
       "0  False   True        1        0        0        0        1  \n",
       "1   True  False        1        0        0        0        1  \n",
       "2   True  False        1        0        0        0        1  \n",
       "3   True   True        1        0        0        0        1  \n",
       "4  False   True        0        1        0        0        1  \n",
       "\n",
       "[5 rows x 23 columns]"
      ]
     },
     "execution_count": 63,
     "metadata": {},
     "output_type": "execute_result"
    }
   ],
   "source": [
    "def assign_label(df_I3):\n",
    "    if df_I3 > 100 and df_I3 < 4000:\n",
    "        return 1\n",
    "    elif df_I3 >= 4000 and df_I3 < 6000:\n",
    "        return 2\n",
    "    elif df_I3 >= 6000 and df_I3 < 10000:\n",
    "        return 3\n",
    "    else:\n",
    "        return 4\n",
    "      \n",
    "df['I3'] = df['I3'].apply(assign_label)    \n",
    "dummy_df = pd.get_dummies(df['I3'], prefix='Class')\n",
    "df = pd.concat([df, dummy_df], axis=1)\n",
    "\n",
    "df.head()"
   ]
  },
  {
   "cell_type": "code",
   "execution_count": 64,
   "metadata": {},
   "outputs": [
    {
     "name": "stdout",
     "output_type": "stream",
     "text": [
      "<class 'pandas.core.frame.DataFrame'>\n",
      "RangeIndex: 682 entries, 0 to 681\n",
      "Data columns (total 23 columns):\n",
      "I1         682 non-null object\n",
      "I2         682 non-null object\n",
      "I3         682 non-null object\n",
      "C1         682 non-null float64\n",
      "C2         682 non-null bool\n",
      "C4         682 non-null float64\n",
      "C7         682 non-null float64\n",
      "C3_D       682 non-null bool\n",
      "C5_D       682 non-null float64\n",
      "C6_D       682 non-null float64\n",
      "T1_D       682 non-null float64\n",
      "T3_D       682 non-null float64\n",
      "T5_D       682 non-null float64\n",
      "S1_D       682 non-null float64\n",
      "S2_D       682 non-null float64\n",
      "S3_D       682 non-null float64\n",
      "Y1         682 non-null bool\n",
      "Y2         682 non-null bool\n",
      "Class_1    682 non-null uint8\n",
      "Class_2    682 non-null uint8\n",
      "Class_3    682 non-null uint8\n",
      "Class_4    682 non-null uint8\n",
      "Class_4    682 non-null uint8\n",
      "dtypes: bool(4), float64(11), object(3), uint8(5)\n",
      "memory usage: 80.7+ KB\n"
     ]
    }
   ],
   "source": [
    "df['I3'] = df.I3.astype('str')\n",
    "df.info()"
   ]
  },
  {
   "cell_type": "code",
   "execution_count": null,
   "metadata": {},
   "outputs": [],
   "source": []
  },
  {
   "cell_type": "code",
   "execution_count": null,
   "metadata": {},
   "outputs": [],
   "source": []
  },
  {
   "cell_type": "code",
   "execution_count": null,
   "metadata": {},
   "outputs": [],
   "source": []
  }
 ],
 "metadata": {
  "kernelspec": {
   "display_name": "Python 3",
   "language": "python",
   "name": "python3"
  },
  "language_info": {
   "codemirror_mode": {
    "name": "ipython",
    "version": 3
   },
   "file_extension": ".py",
   "mimetype": "text/x-python",
   "name": "python",
   "nbconvert_exporter": "python",
   "pygments_lexer": "ipython3",
   "version": "3.6.5"
  }
 },
 "nbformat": 4,
 "nbformat_minor": 2
}
